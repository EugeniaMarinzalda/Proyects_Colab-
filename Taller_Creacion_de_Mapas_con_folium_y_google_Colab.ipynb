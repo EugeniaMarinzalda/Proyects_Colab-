{
  "nbformat": 4,
  "nbformat_minor": 0,
  "metadata": {
    "colab": {
      "provenance": [],
      "toc_visible": true,
      "mount_file_id": "1JrSWBQwiR846Ld-vFwanDkidhU6F5uPF",
      "authorship_tag": "ABX9TyMiO8wcKXMOBHfbcP6PQJf6",
      "include_colab_link": true
    },
    "kernelspec": {
      "name": "python3",
      "display_name": "Python 3"
    },
    "language_info": {
      "name": "python"
    }
  },
  "cells": [
    {
      "cell_type": "markdown",
      "metadata": {
        "id": "view-in-github",
        "colab_type": "text"
      },
      "source": [
        "<a href=\"https://colab.research.google.com/github/EugeniaMarinzalda/Proyects_Colab-/blob/main/Taller_Creacion_de_Mapas_con_folium_y_google_Colab.ipynb\" target=\"_parent\"><img src=\"https://colab.research.google.com/assets/colab-badge.svg\" alt=\"Open In Colab\"/></a>"
      ]
    },
    {
      "cell_type": "markdown",
      "source": [
        "#Folium"
      ],
      "metadata": {
        "id": "glSwuMjx1nrM"
      }
    },
    {
      "cell_type": "markdown",
      "source": [
        "##Mi primer mapa\n"
      ],
      "metadata": {
        "id": "LcazzJSD3Fei"
      }
    },
    {
      "cell_type": "markdown",
      "source": [
        "Para crear mi primer mapa, debemos importar la libreria folium y7 usar la funcion Map() de folium"
      ],
      "metadata": {
        "id": "VmEcuc511qRU"
      }
    },
    {
      "cell_type": "code",
      "source": [
        "import folium as fl"
      ],
      "metadata": {
        "id": "fTG6rJz13UC8"
      },
      "execution_count": null,
      "outputs": []
    },
    {
      "cell_type": "markdown",
      "source": [
        "Ahora si podemos usar las funciones de folium, opr ejemplo maps()"
      ],
      "metadata": {
        "id": "5zl-69kI3f62"
      }
    },
    {
      "cell_type": "code",
      "source": [
        "  mapa=fl.Map()\n",
        "  mapa"
      ],
      "metadata": {
        "colab": {
          "base_uri": "https://localhost:8080/",
          "height": 532
        },
        "id": "1ecvN4lJ3nYy",
        "outputId": "77bb28f7-472b-463f-a703-d57935ea543d"
      },
      "execution_count": null,
      "outputs": [
        {
          "output_type": "execute_result",
          "data": {
            "text/plain": [
              "<folium.folium.Map at 0x7f937c718d90>"
            ],
            "text/html": [
              "<div style=\"width:100%;\"><div style=\"position:relative;width:100%;height:0;padding-bottom:60%;\"><span style=\"color:#565656\">Make this Notebook Trusted to load map: File -> Trust Notebook</span><iframe srcdoc=\"&lt;!DOCTYPE html&gt;\n",
              "&lt;html&gt;\n",
              "&lt;head&gt;\n",
              "    \n",
              "    &lt;meta http-equiv=&quot;content-type&quot; content=&quot;text/html; charset=UTF-8&quot; /&gt;\n",
              "    \n",
              "        &lt;script&gt;\n",
              "            L_NO_TOUCH = false;\n",
              "            L_DISABLE_3D = false;\n",
              "        &lt;/script&gt;\n",
              "    \n",
              "    &lt;style&gt;html, body {width: 100%;height: 100%;margin: 0;padding: 0;}&lt;/style&gt;\n",
              "    &lt;style&gt;#map {position:absolute;top:0;bottom:0;right:0;left:0;}&lt;/style&gt;\n",
              "    &lt;script src=&quot;https://cdn.jsdelivr.net/npm/leaflet@1.6.0/dist/leaflet.js&quot;&gt;&lt;/script&gt;\n",
              "    &lt;script src=&quot;https://code.jquery.com/jquery-1.12.4.min.js&quot;&gt;&lt;/script&gt;\n",
              "    &lt;script src=&quot;https://maxcdn.bootstrapcdn.com/bootstrap/3.2.0/js/bootstrap.min.js&quot;&gt;&lt;/script&gt;\n",
              "    &lt;script src=&quot;https://cdnjs.cloudflare.com/ajax/libs/Leaflet.awesome-markers/2.0.2/leaflet.awesome-markers.js&quot;&gt;&lt;/script&gt;\n",
              "    &lt;link rel=&quot;stylesheet&quot; href=&quot;https://cdn.jsdelivr.net/npm/leaflet@1.6.0/dist/leaflet.css&quot;/&gt;\n",
              "    &lt;link rel=&quot;stylesheet&quot; href=&quot;https://maxcdn.bootstrapcdn.com/bootstrap/3.2.0/css/bootstrap.min.css&quot;/&gt;\n",
              "    &lt;link rel=&quot;stylesheet&quot; href=&quot;https://maxcdn.bootstrapcdn.com/bootstrap/3.2.0/css/bootstrap-theme.min.css&quot;/&gt;\n",
              "    &lt;link rel=&quot;stylesheet&quot; href=&quot;https://maxcdn.bootstrapcdn.com/font-awesome/4.6.3/css/font-awesome.min.css&quot;/&gt;\n",
              "    &lt;link rel=&quot;stylesheet&quot; href=&quot;https://cdnjs.cloudflare.com/ajax/libs/Leaflet.awesome-markers/2.0.2/leaflet.awesome-markers.css&quot;/&gt;\n",
              "    &lt;link rel=&quot;stylesheet&quot; href=&quot;https://cdn.jsdelivr.net/gh/python-visualization/folium/folium/templates/leaflet.awesome.rotate.min.css&quot;/&gt;\n",
              "    \n",
              "            &lt;meta name=&quot;viewport&quot; content=&quot;width=device-width,\n",
              "                initial-scale=1.0, maximum-scale=1.0, user-scalable=no&quot; /&gt;\n",
              "            &lt;style&gt;\n",
              "                #map_9c260e5ce4a5af46f34378a820237f2b {\n",
              "                    position: relative;\n",
              "                    width: 100.0%;\n",
              "                    height: 100.0%;\n",
              "                    left: 0.0%;\n",
              "                    top: 0.0%;\n",
              "                }\n",
              "            &lt;/style&gt;\n",
              "        \n",
              "&lt;/head&gt;\n",
              "&lt;body&gt;\n",
              "    \n",
              "    \n",
              "            &lt;div class=&quot;folium-map&quot; id=&quot;map_9c260e5ce4a5af46f34378a820237f2b&quot; &gt;&lt;/div&gt;\n",
              "        \n",
              "&lt;/body&gt;\n",
              "&lt;script&gt;\n",
              "    \n",
              "    \n",
              "            var map_9c260e5ce4a5af46f34378a820237f2b = L.map(\n",
              "                &quot;map_9c260e5ce4a5af46f34378a820237f2b&quot;,\n",
              "                {\n",
              "                    center: [0, 0],\n",
              "                    crs: L.CRS.EPSG3857,\n",
              "                    zoom: 1,\n",
              "                    zoomControl: true,\n",
              "                    preferCanvas: false,\n",
              "                }\n",
              "            );\n",
              "\n",
              "            \n",
              "\n",
              "        \n",
              "    \n",
              "            var tile_layer_d41be721d845b97f2275e835c7c03ad4 = L.tileLayer(\n",
              "                &quot;https://{s}.tile.openstreetmap.org/{z}/{x}/{y}.png&quot;,\n",
              "                {&quot;attribution&quot;: &quot;Data by \\u0026copy; \\u003ca href=\\&quot;http://openstreetmap.org\\&quot;\\u003eOpenStreetMap\\u003c/a\\u003e, under \\u003ca href=\\&quot;http://www.openstreetmap.org/copyright\\&quot;\\u003eODbL\\u003c/a\\u003e.&quot;, &quot;detectRetina&quot;: false, &quot;maxNativeZoom&quot;: 18, &quot;maxZoom&quot;: 18, &quot;minZoom&quot;: 0, &quot;noWrap&quot;: false, &quot;opacity&quot;: 1, &quot;subdomains&quot;: &quot;abc&quot;, &quot;tms&quot;: false}\n",
              "            ).addTo(map_9c260e5ce4a5af46f34378a820237f2b);\n",
              "        \n",
              "&lt;/script&gt;\n",
              "&lt;/html&gt;\" style=\"position:absolute;width:100%;height:100%;left:0;top:0;border:none !important;\" allowfullscreen webkitallowfullscreen mozallowfullscreen></iframe></div></div>"
            ]
          },
          "metadata": {},
          "execution_count": 16
        }
      ]
    },
    {
      "cell_type": "markdown",
      "source": [
        "La funcion **Map** permite enviarle los siguientes parametros:\n",
        "\n",
        "\n",
        "*   Location (tupla o lista, predeterminado None): latitud y longitud\n",
        "*   width (numero de pixeles o cadena de porcentaje [predeterminado:100%]): ancho del mapa\n",
        "*   heigth (numero de pixeles o cadena de porcentaje [predeterminado:100%]): altura del mapa\n",
        "*   zoom_start (int, predeterminado 10): nivel de zoom para iniciar el mapa\n",
        "\n",
        "... mas en: Documentacion de Folium:Map\n"
      ],
      "metadata": {
        "id": "Pzlq0XDu99Mj"
      }
    },
    {
      "cell_type": "markdown",
      "source": [
        "Parametro location\n",
        "Latitud y longitud del mapa \n",
        "\n",
        "\n",
        "*   Con lista\n",
        "\n",
        "      Map(location=[longitud,latitud])\n",
        "*   Con tupla\n",
        "\n",
        "      Map(location=(longitud,latitud))\n",
        "\n"
      ],
      "metadata": {
        "id": "flaRvKDy_en9"
      }
    },
    {
      "cell_type": "code",
      "source": [
        "mGye=fl.Map(location=[-2.1893941,-79.8890591])\n",
        "\n",
        "mGye"
      ],
      "metadata": {
        "colab": {
          "base_uri": "https://localhost:8080/",
          "height": 532
        },
        "id": "SfkQPihZACZP",
        "outputId": "b5246f2c-46ed-4f46-fd08-239cef0c3029"
      },
      "execution_count": null,
      "outputs": [
        {
          "output_type": "execute_result",
          "data": {
            "text/plain": [
              "<folium.folium.Map at 0x7f937c6b4e80>"
            ],
            "text/html": [
              "<div style=\"width:100%;\"><div style=\"position:relative;width:100%;height:0;padding-bottom:60%;\"><span style=\"color:#565656\">Make this Notebook Trusted to load map: File -> Trust Notebook</span><iframe srcdoc=\"&lt;!DOCTYPE html&gt;\n",
              "&lt;html&gt;\n",
              "&lt;head&gt;\n",
              "    \n",
              "    &lt;meta http-equiv=&quot;content-type&quot; content=&quot;text/html; charset=UTF-8&quot; /&gt;\n",
              "    \n",
              "        &lt;script&gt;\n",
              "            L_NO_TOUCH = false;\n",
              "            L_DISABLE_3D = false;\n",
              "        &lt;/script&gt;\n",
              "    \n",
              "    &lt;style&gt;html, body {width: 100%;height: 100%;margin: 0;padding: 0;}&lt;/style&gt;\n",
              "    &lt;style&gt;#map {position:absolute;top:0;bottom:0;right:0;left:0;}&lt;/style&gt;\n",
              "    &lt;script src=&quot;https://cdn.jsdelivr.net/npm/leaflet@1.6.0/dist/leaflet.js&quot;&gt;&lt;/script&gt;\n",
              "    &lt;script src=&quot;https://code.jquery.com/jquery-1.12.4.min.js&quot;&gt;&lt;/script&gt;\n",
              "    &lt;script src=&quot;https://maxcdn.bootstrapcdn.com/bootstrap/3.2.0/js/bootstrap.min.js&quot;&gt;&lt;/script&gt;\n",
              "    &lt;script src=&quot;https://cdnjs.cloudflare.com/ajax/libs/Leaflet.awesome-markers/2.0.2/leaflet.awesome-markers.js&quot;&gt;&lt;/script&gt;\n",
              "    &lt;link rel=&quot;stylesheet&quot; href=&quot;https://cdn.jsdelivr.net/npm/leaflet@1.6.0/dist/leaflet.css&quot;/&gt;\n",
              "    &lt;link rel=&quot;stylesheet&quot; href=&quot;https://maxcdn.bootstrapcdn.com/bootstrap/3.2.0/css/bootstrap.min.css&quot;/&gt;\n",
              "    &lt;link rel=&quot;stylesheet&quot; href=&quot;https://maxcdn.bootstrapcdn.com/bootstrap/3.2.0/css/bootstrap-theme.min.css&quot;/&gt;\n",
              "    &lt;link rel=&quot;stylesheet&quot; href=&quot;https://maxcdn.bootstrapcdn.com/font-awesome/4.6.3/css/font-awesome.min.css&quot;/&gt;\n",
              "    &lt;link rel=&quot;stylesheet&quot; href=&quot;https://cdnjs.cloudflare.com/ajax/libs/Leaflet.awesome-markers/2.0.2/leaflet.awesome-markers.css&quot;/&gt;\n",
              "    &lt;link rel=&quot;stylesheet&quot; href=&quot;https://cdn.jsdelivr.net/gh/python-visualization/folium/folium/templates/leaflet.awesome.rotate.min.css&quot;/&gt;\n",
              "    \n",
              "            &lt;meta name=&quot;viewport&quot; content=&quot;width=device-width,\n",
              "                initial-scale=1.0, maximum-scale=1.0, user-scalable=no&quot; /&gt;\n",
              "            &lt;style&gt;\n",
              "                #map_567f83fd7bde37c4c4bd73678adc6c54 {\n",
              "                    position: relative;\n",
              "                    width: 100.0%;\n",
              "                    height: 100.0%;\n",
              "                    left: 0.0%;\n",
              "                    top: 0.0%;\n",
              "                }\n",
              "            &lt;/style&gt;\n",
              "        \n",
              "&lt;/head&gt;\n",
              "&lt;body&gt;\n",
              "    \n",
              "    \n",
              "            &lt;div class=&quot;folium-map&quot; id=&quot;map_567f83fd7bde37c4c4bd73678adc6c54&quot; &gt;&lt;/div&gt;\n",
              "        \n",
              "&lt;/body&gt;\n",
              "&lt;script&gt;\n",
              "    \n",
              "    \n",
              "            var map_567f83fd7bde37c4c4bd73678adc6c54 = L.map(\n",
              "                &quot;map_567f83fd7bde37c4c4bd73678adc6c54&quot;,\n",
              "                {\n",
              "                    center: [-2.1893941, -79.8890591],\n",
              "                    crs: L.CRS.EPSG3857,\n",
              "                    zoom: 10,\n",
              "                    zoomControl: true,\n",
              "                    preferCanvas: false,\n",
              "                }\n",
              "            );\n",
              "\n",
              "            \n",
              "\n",
              "        \n",
              "    \n",
              "            var tile_layer_3f3248812035a3a1132cca0974a8a2c7 = L.tileLayer(\n",
              "                &quot;https://{s}.tile.openstreetmap.org/{z}/{x}/{y}.png&quot;,\n",
              "                {&quot;attribution&quot;: &quot;Data by \\u0026copy; \\u003ca href=\\&quot;http://openstreetmap.org\\&quot;\\u003eOpenStreetMap\\u003c/a\\u003e, under \\u003ca href=\\&quot;http://www.openstreetmap.org/copyright\\&quot;\\u003eODbL\\u003c/a\\u003e.&quot;, &quot;detectRetina&quot;: false, &quot;maxNativeZoom&quot;: 18, &quot;maxZoom&quot;: 18, &quot;minZoom&quot;: 0, &quot;noWrap&quot;: false, &quot;opacity&quot;: 1, &quot;subdomains&quot;: &quot;abc&quot;, &quot;tms&quot;: false}\n",
              "            ).addTo(map_567f83fd7bde37c4c4bd73678adc6c54);\n",
              "        \n",
              "&lt;/script&gt;\n",
              "&lt;/html&gt;\" style=\"position:absolute;width:100%;height:100%;left:0;top:0;border:none !important;\" allowfullscreen webkitallowfullscreen mozallowfullscreen></iframe></div></div>"
            ]
          },
          "metadata": {},
          "execution_count": 17
        }
      ]
    },
    {
      "cell_type": "code",
      "source": [
        "alta_gracia=fl.Map(location=[-31.6584428,-64.4273429])\n",
        "alta_gracia\n"
      ],
      "metadata": {
        "colab": {
          "base_uri": "https://localhost:8080/",
          "height": 532
        },
        "id": "l8twxLgABU2E",
        "outputId": "c2bae067-d057-4a10-d869-b058468104ce"
      },
      "execution_count": null,
      "outputs": [
        {
          "output_type": "execute_result",
          "data": {
            "text/plain": [
              "<folium.folium.Map at 0x7f937c6a1670>"
            ],
            "text/html": [
              "<div style=\"width:100%;\"><div style=\"position:relative;width:100%;height:0;padding-bottom:60%;\"><span style=\"color:#565656\">Make this Notebook Trusted to load map: File -> Trust Notebook</span><iframe srcdoc=\"&lt;!DOCTYPE html&gt;\n",
              "&lt;html&gt;\n",
              "&lt;head&gt;\n",
              "    \n",
              "    &lt;meta http-equiv=&quot;content-type&quot; content=&quot;text/html; charset=UTF-8&quot; /&gt;\n",
              "    \n",
              "        &lt;script&gt;\n",
              "            L_NO_TOUCH = false;\n",
              "            L_DISABLE_3D = false;\n",
              "        &lt;/script&gt;\n",
              "    \n",
              "    &lt;style&gt;html, body {width: 100%;height: 100%;margin: 0;padding: 0;}&lt;/style&gt;\n",
              "    &lt;style&gt;#map {position:absolute;top:0;bottom:0;right:0;left:0;}&lt;/style&gt;\n",
              "    &lt;script src=&quot;https://cdn.jsdelivr.net/npm/leaflet@1.6.0/dist/leaflet.js&quot;&gt;&lt;/script&gt;\n",
              "    &lt;script src=&quot;https://code.jquery.com/jquery-1.12.4.min.js&quot;&gt;&lt;/script&gt;\n",
              "    &lt;script src=&quot;https://maxcdn.bootstrapcdn.com/bootstrap/3.2.0/js/bootstrap.min.js&quot;&gt;&lt;/script&gt;\n",
              "    &lt;script src=&quot;https://cdnjs.cloudflare.com/ajax/libs/Leaflet.awesome-markers/2.0.2/leaflet.awesome-markers.js&quot;&gt;&lt;/script&gt;\n",
              "    &lt;link rel=&quot;stylesheet&quot; href=&quot;https://cdn.jsdelivr.net/npm/leaflet@1.6.0/dist/leaflet.css&quot;/&gt;\n",
              "    &lt;link rel=&quot;stylesheet&quot; href=&quot;https://maxcdn.bootstrapcdn.com/bootstrap/3.2.0/css/bootstrap.min.css&quot;/&gt;\n",
              "    &lt;link rel=&quot;stylesheet&quot; href=&quot;https://maxcdn.bootstrapcdn.com/bootstrap/3.2.0/css/bootstrap-theme.min.css&quot;/&gt;\n",
              "    &lt;link rel=&quot;stylesheet&quot; href=&quot;https://maxcdn.bootstrapcdn.com/font-awesome/4.6.3/css/font-awesome.min.css&quot;/&gt;\n",
              "    &lt;link rel=&quot;stylesheet&quot; href=&quot;https://cdnjs.cloudflare.com/ajax/libs/Leaflet.awesome-markers/2.0.2/leaflet.awesome-markers.css&quot;/&gt;\n",
              "    &lt;link rel=&quot;stylesheet&quot; href=&quot;https://cdn.jsdelivr.net/gh/python-visualization/folium/folium/templates/leaflet.awesome.rotate.min.css&quot;/&gt;\n",
              "    \n",
              "            &lt;meta name=&quot;viewport&quot; content=&quot;width=device-width,\n",
              "                initial-scale=1.0, maximum-scale=1.0, user-scalable=no&quot; /&gt;\n",
              "            &lt;style&gt;\n",
              "                #map_a029a45513ff91faf8c5e09144840945 {\n",
              "                    position: relative;\n",
              "                    width: 100.0%;\n",
              "                    height: 100.0%;\n",
              "                    left: 0.0%;\n",
              "                    top: 0.0%;\n",
              "                }\n",
              "            &lt;/style&gt;\n",
              "        \n",
              "&lt;/head&gt;\n",
              "&lt;body&gt;\n",
              "    \n",
              "    \n",
              "            &lt;div class=&quot;folium-map&quot; id=&quot;map_a029a45513ff91faf8c5e09144840945&quot; &gt;&lt;/div&gt;\n",
              "        \n",
              "&lt;/body&gt;\n",
              "&lt;script&gt;\n",
              "    \n",
              "    \n",
              "            var map_a029a45513ff91faf8c5e09144840945 = L.map(\n",
              "                &quot;map_a029a45513ff91faf8c5e09144840945&quot;,\n",
              "                {\n",
              "                    center: [-31.6584428, -64.4273429],\n",
              "                    crs: L.CRS.EPSG3857,\n",
              "                    zoom: 10,\n",
              "                    zoomControl: true,\n",
              "                    preferCanvas: false,\n",
              "                }\n",
              "            );\n",
              "\n",
              "            \n",
              "\n",
              "        \n",
              "    \n",
              "            var tile_layer_f14f0bb7645ecb6f7b5ac45b5573cf9a = L.tileLayer(\n",
              "                &quot;https://{s}.tile.openstreetmap.org/{z}/{x}/{y}.png&quot;,\n",
              "                {&quot;attribution&quot;: &quot;Data by \\u0026copy; \\u003ca href=\\&quot;http://openstreetmap.org\\&quot;\\u003eOpenStreetMap\\u003c/a\\u003e, under \\u003ca href=\\&quot;http://www.openstreetmap.org/copyright\\&quot;\\u003eODbL\\u003c/a\\u003e.&quot;, &quot;detectRetina&quot;: false, &quot;maxNativeZoom&quot;: 18, &quot;maxZoom&quot;: 18, &quot;minZoom&quot;: 0, &quot;noWrap&quot;: false, &quot;opacity&quot;: 1, &quot;subdomains&quot;: &quot;abc&quot;, &quot;tms&quot;: false}\n",
              "            ).addTo(map_a029a45513ff91faf8c5e09144840945);\n",
              "        \n",
              "&lt;/script&gt;\n",
              "&lt;/html&gt;\" style=\"position:absolute;width:100%;height:100%;left:0;top:0;border:none !important;\" allowfullscreen webkitallowfullscreen mozallowfullscreen></iframe></div></div>"
            ]
          },
          "metadata": {},
          "execution_count": 18
        }
      ]
    },
    {
      "cell_type": "markdown",
      "source": [
        "###Parametro width y height\n",
        "ancho y altura del mapa\n",
        "Map(width=\"50%,height=\"50%\")"
      ],
      "metadata": {
        "id": "7e41j5QCB2RO"
      }
    },
    {
      "cell_type": "code",
      "source": [
        "alta_gracia=fl.Map(location=[-31.6584428,-64.4273429],width='60%',height='60%')\n",
        "alta_gracia"
      ],
      "metadata": {
        "colab": {
          "base_uri": "https://localhost:8080/",
          "height": 532
        },
        "id": "_mJ7wzb2DcQg",
        "outputId": "fb3c6465-63ad-4f94-e9e8-ee6a2ccfcfee"
      },
      "execution_count": null,
      "outputs": [
        {
          "output_type": "execute_result",
          "data": {
            "text/plain": [
              "<folium.folium.Map at 0x7f937c5f2d00>"
            ],
            "text/html": [
              "<div style=\"width:100%;\"><div style=\"position:relative;width:100%;height:0;padding-bottom:60%;\"><span style=\"color:#565656\">Make this Notebook Trusted to load map: File -> Trust Notebook</span><iframe srcdoc=\"&lt;!DOCTYPE html&gt;\n",
              "&lt;html&gt;\n",
              "&lt;head&gt;\n",
              "    \n",
              "    &lt;meta http-equiv=&quot;content-type&quot; content=&quot;text/html; charset=UTF-8&quot; /&gt;\n",
              "    \n",
              "        &lt;script&gt;\n",
              "            L_NO_TOUCH = false;\n",
              "            L_DISABLE_3D = false;\n",
              "        &lt;/script&gt;\n",
              "    \n",
              "    &lt;style&gt;html, body {width: 100%;height: 100%;margin: 0;padding: 0;}&lt;/style&gt;\n",
              "    &lt;style&gt;#map {position:absolute;top:0;bottom:0;right:0;left:0;}&lt;/style&gt;\n",
              "    &lt;script src=&quot;https://cdn.jsdelivr.net/npm/leaflet@1.6.0/dist/leaflet.js&quot;&gt;&lt;/script&gt;\n",
              "    &lt;script src=&quot;https://code.jquery.com/jquery-1.12.4.min.js&quot;&gt;&lt;/script&gt;\n",
              "    &lt;script src=&quot;https://maxcdn.bootstrapcdn.com/bootstrap/3.2.0/js/bootstrap.min.js&quot;&gt;&lt;/script&gt;\n",
              "    &lt;script src=&quot;https://cdnjs.cloudflare.com/ajax/libs/Leaflet.awesome-markers/2.0.2/leaflet.awesome-markers.js&quot;&gt;&lt;/script&gt;\n",
              "    &lt;link rel=&quot;stylesheet&quot; href=&quot;https://cdn.jsdelivr.net/npm/leaflet@1.6.0/dist/leaflet.css&quot;/&gt;\n",
              "    &lt;link rel=&quot;stylesheet&quot; href=&quot;https://maxcdn.bootstrapcdn.com/bootstrap/3.2.0/css/bootstrap.min.css&quot;/&gt;\n",
              "    &lt;link rel=&quot;stylesheet&quot; href=&quot;https://maxcdn.bootstrapcdn.com/bootstrap/3.2.0/css/bootstrap-theme.min.css&quot;/&gt;\n",
              "    &lt;link rel=&quot;stylesheet&quot; href=&quot;https://maxcdn.bootstrapcdn.com/font-awesome/4.6.3/css/font-awesome.min.css&quot;/&gt;\n",
              "    &lt;link rel=&quot;stylesheet&quot; href=&quot;https://cdnjs.cloudflare.com/ajax/libs/Leaflet.awesome-markers/2.0.2/leaflet.awesome-markers.css&quot;/&gt;\n",
              "    &lt;link rel=&quot;stylesheet&quot; href=&quot;https://cdn.jsdelivr.net/gh/python-visualization/folium/folium/templates/leaflet.awesome.rotate.min.css&quot;/&gt;\n",
              "    \n",
              "            &lt;meta name=&quot;viewport&quot; content=&quot;width=device-width,\n",
              "                initial-scale=1.0, maximum-scale=1.0, user-scalable=no&quot; /&gt;\n",
              "            &lt;style&gt;\n",
              "                #map_073395effd2d9af19b9abeccc5245fdc {\n",
              "                    position: relative;\n",
              "                    width: 60.0%;\n",
              "                    height: 60.0%;\n",
              "                    left: 0.0%;\n",
              "                    top: 0.0%;\n",
              "                }\n",
              "            &lt;/style&gt;\n",
              "        \n",
              "&lt;/head&gt;\n",
              "&lt;body&gt;\n",
              "    \n",
              "    \n",
              "            &lt;div class=&quot;folium-map&quot; id=&quot;map_073395effd2d9af19b9abeccc5245fdc&quot; &gt;&lt;/div&gt;\n",
              "        \n",
              "&lt;/body&gt;\n",
              "&lt;script&gt;\n",
              "    \n",
              "    \n",
              "            var map_073395effd2d9af19b9abeccc5245fdc = L.map(\n",
              "                &quot;map_073395effd2d9af19b9abeccc5245fdc&quot;,\n",
              "                {\n",
              "                    center: [-31.6584428, -64.4273429],\n",
              "                    crs: L.CRS.EPSG3857,\n",
              "                    zoom: 10,\n",
              "                    zoomControl: true,\n",
              "                    preferCanvas: false,\n",
              "                }\n",
              "            );\n",
              "\n",
              "            \n",
              "\n",
              "        \n",
              "    \n",
              "            var tile_layer_80938cf0613821eaf06f53b1cf234ba9 = L.tileLayer(\n",
              "                &quot;https://{s}.tile.openstreetmap.org/{z}/{x}/{y}.png&quot;,\n",
              "                {&quot;attribution&quot;: &quot;Data by \\u0026copy; \\u003ca href=\\&quot;http://openstreetmap.org\\&quot;\\u003eOpenStreetMap\\u003c/a\\u003e, under \\u003ca href=\\&quot;http://www.openstreetmap.org/copyright\\&quot;\\u003eODbL\\u003c/a\\u003e.&quot;, &quot;detectRetina&quot;: false, &quot;maxNativeZoom&quot;: 18, &quot;maxZoom&quot;: 18, &quot;minZoom&quot;: 0, &quot;noWrap&quot;: false, &quot;opacity&quot;: 1, &quot;subdomains&quot;: &quot;abc&quot;, &quot;tms&quot;: false}\n",
              "            ).addTo(map_073395effd2d9af19b9abeccc5245fdc);\n",
              "        \n",
              "&lt;/script&gt;\n",
              "&lt;/html&gt;\" style=\"position:absolute;width:100%;height:100%;left:0;top:0;border:none !important;\" allowfullscreen webkitallowfullscreen mozallowfullscreen></iframe></div></div>"
            ]
          },
          "metadata": {},
          "execution_count": 19
        }
      ]
    },
    {
      "cell_type": "markdown",
      "source": [
        "###Parametro zoom_start\n",
        "Nivel de zoom inicial para el mapa\n",
        "\n",
        "Map(zoom_start=11)"
      ],
      "metadata": {
        "id": "vuJ115lAEVMS"
      }
    },
    {
      "cell_type": "code",
      "source": [
        "alta_gracia=fl.Map(location=[-31.6584428,-64.4273429],width='60%',height='80%',zoom_start=13)\n",
        "alta_gracia"
      ],
      "metadata": {
        "colab": {
          "base_uri": "https://localhost:8080/",
          "height": 532
        },
        "id": "6qiSV4uyEhsJ",
        "outputId": "04122891-e8fc-4dfc-d561-f62e8a7dea68"
      },
      "execution_count": null,
      "outputs": [
        {
          "output_type": "execute_result",
          "data": {
            "text/plain": [
              "<folium.folium.Map at 0x7f937c5fe4f0>"
            ],
            "text/html": [
              "<div style=\"width:100%;\"><div style=\"position:relative;width:100%;height:0;padding-bottom:60%;\"><span style=\"color:#565656\">Make this Notebook Trusted to load map: File -> Trust Notebook</span><iframe srcdoc=\"&lt;!DOCTYPE html&gt;\n",
              "&lt;html&gt;\n",
              "&lt;head&gt;\n",
              "    \n",
              "    &lt;meta http-equiv=&quot;content-type&quot; content=&quot;text/html; charset=UTF-8&quot; /&gt;\n",
              "    \n",
              "        &lt;script&gt;\n",
              "            L_NO_TOUCH = false;\n",
              "            L_DISABLE_3D = false;\n",
              "        &lt;/script&gt;\n",
              "    \n",
              "    &lt;style&gt;html, body {width: 100%;height: 100%;margin: 0;padding: 0;}&lt;/style&gt;\n",
              "    &lt;style&gt;#map {position:absolute;top:0;bottom:0;right:0;left:0;}&lt;/style&gt;\n",
              "    &lt;script src=&quot;https://cdn.jsdelivr.net/npm/leaflet@1.6.0/dist/leaflet.js&quot;&gt;&lt;/script&gt;\n",
              "    &lt;script src=&quot;https://code.jquery.com/jquery-1.12.4.min.js&quot;&gt;&lt;/script&gt;\n",
              "    &lt;script src=&quot;https://maxcdn.bootstrapcdn.com/bootstrap/3.2.0/js/bootstrap.min.js&quot;&gt;&lt;/script&gt;\n",
              "    &lt;script src=&quot;https://cdnjs.cloudflare.com/ajax/libs/Leaflet.awesome-markers/2.0.2/leaflet.awesome-markers.js&quot;&gt;&lt;/script&gt;\n",
              "    &lt;link rel=&quot;stylesheet&quot; href=&quot;https://cdn.jsdelivr.net/npm/leaflet@1.6.0/dist/leaflet.css&quot;/&gt;\n",
              "    &lt;link rel=&quot;stylesheet&quot; href=&quot;https://maxcdn.bootstrapcdn.com/bootstrap/3.2.0/css/bootstrap.min.css&quot;/&gt;\n",
              "    &lt;link rel=&quot;stylesheet&quot; href=&quot;https://maxcdn.bootstrapcdn.com/bootstrap/3.2.0/css/bootstrap-theme.min.css&quot;/&gt;\n",
              "    &lt;link rel=&quot;stylesheet&quot; href=&quot;https://maxcdn.bootstrapcdn.com/font-awesome/4.6.3/css/font-awesome.min.css&quot;/&gt;\n",
              "    &lt;link rel=&quot;stylesheet&quot; href=&quot;https://cdnjs.cloudflare.com/ajax/libs/Leaflet.awesome-markers/2.0.2/leaflet.awesome-markers.css&quot;/&gt;\n",
              "    &lt;link rel=&quot;stylesheet&quot; href=&quot;https://cdn.jsdelivr.net/gh/python-visualization/folium/folium/templates/leaflet.awesome.rotate.min.css&quot;/&gt;\n",
              "    \n",
              "            &lt;meta name=&quot;viewport&quot; content=&quot;width=device-width,\n",
              "                initial-scale=1.0, maximum-scale=1.0, user-scalable=no&quot; /&gt;\n",
              "            &lt;style&gt;\n",
              "                #map_a3d489a3d46c23b5db45c85ec3c86192 {\n",
              "                    position: relative;\n",
              "                    width: 60.0%;\n",
              "                    height: 80.0%;\n",
              "                    left: 0.0%;\n",
              "                    top: 0.0%;\n",
              "                }\n",
              "            &lt;/style&gt;\n",
              "        \n",
              "&lt;/head&gt;\n",
              "&lt;body&gt;\n",
              "    \n",
              "    \n",
              "            &lt;div class=&quot;folium-map&quot; id=&quot;map_a3d489a3d46c23b5db45c85ec3c86192&quot; &gt;&lt;/div&gt;\n",
              "        \n",
              "&lt;/body&gt;\n",
              "&lt;script&gt;\n",
              "    \n",
              "    \n",
              "            var map_a3d489a3d46c23b5db45c85ec3c86192 = L.map(\n",
              "                &quot;map_a3d489a3d46c23b5db45c85ec3c86192&quot;,\n",
              "                {\n",
              "                    center: [-31.6584428, -64.4273429],\n",
              "                    crs: L.CRS.EPSG3857,\n",
              "                    zoom: 13,\n",
              "                    zoomControl: true,\n",
              "                    preferCanvas: false,\n",
              "                }\n",
              "            );\n",
              "\n",
              "            \n",
              "\n",
              "        \n",
              "    \n",
              "            var tile_layer_22f925df8fbd626dd21f716d5b4ce9d2 = L.tileLayer(\n",
              "                &quot;https://{s}.tile.openstreetmap.org/{z}/{x}/{y}.png&quot;,\n",
              "                {&quot;attribution&quot;: &quot;Data by \\u0026copy; \\u003ca href=\\&quot;http://openstreetmap.org\\&quot;\\u003eOpenStreetMap\\u003c/a\\u003e, under \\u003ca href=\\&quot;http://www.openstreetmap.org/copyright\\&quot;\\u003eODbL\\u003c/a\\u003e.&quot;, &quot;detectRetina&quot;: false, &quot;maxNativeZoom&quot;: 18, &quot;maxZoom&quot;: 18, &quot;minZoom&quot;: 0, &quot;noWrap&quot;: false, &quot;opacity&quot;: 1, &quot;subdomains&quot;: &quot;abc&quot;, &quot;tms&quot;: false}\n",
              "            ).addTo(map_a3d489a3d46c23b5db45c85ec3c86192);\n",
              "        \n",
              "&lt;/script&gt;\n",
              "&lt;/html&gt;\" style=\"position:absolute;width:100%;height:100%;left:0;top:0;border:none !important;\" allowfullscreen webkitallowfullscreen mozallowfullscreen></iframe></div></div>"
            ]
          },
          "metadata": {},
          "execution_count": 20
        }
      ]
    },
    {
      "cell_type": "markdown",
      "source": [
        "##Marcadores"
      ],
      "metadata": {
        "id": "Pro0kUC7GKK5"
      }
    },
    {
      "cell_type": "markdown",
      "source": [
        "En esta seccion aprenderemos a colocar diversos tipos de marcadores sobre el mapa\n",
        "\n",
        "\n"
      ],
      "metadata": {
        "id": "0LDnnOFhGPM5"
      }
    },
    {
      "cell_type": "markdown",
      "source": [
        "La funcion Marker permite enviarle los siguientes parametros:\n",
        "\n",
        "\n",
        "*   location (tupla o lista): longitud y latitud del marcador\n",
        "*   popup (caena o folium.Popup, predeterminado None): Al dar clic en el marcador se mostrara la cadena.\n",
        "*   tooltip (str o folium.Tooltip, predeterminado None): muestra un texto al pasar el cursor sobre el marcador.\n",
        "*   icon (folium.Icon): el complemento de icono que se utilizara para representar el marcador.\n",
        "\n",
        "...mas en: Documentacion de folium:marker\n",
        "\n",
        "\n",
        "\n"
      ],
      "metadata": {
        "id": "8bz_JXvmGdvR"
      }
    },
    {
      "cell_type": "markdown",
      "source": [
        "###Parametro location"
      ],
      "metadata": {
        "id": "KVk9SC7mHkpT"
      }
    },
    {
      "cell_type": "markdown",
      "source": [
        "Parametro location Latitud y longitud del mapa\n",
        "\n",
        "*    Con lista\n",
        "\n",
        "Marker(location=[longitud,latitud])\n",
        "\n",
        "*   Con tupla\n",
        "\n",
        "Marker(location=(longitud,latitud))"
      ],
      "metadata": {
        "id": "6U_GjqjPIaM9"
      }
    },
    {
      "cell_type": "code",
      "source": [
        "alta_gracia"
      ],
      "metadata": {
        "colab": {
          "base_uri": "https://localhost:8080/",
          "height": 532
        },
        "id": "PGhcTSpyJZuz",
        "outputId": "b2d8dcf9-2465-4741-c6db-cae129a43452"
      },
      "execution_count": null,
      "outputs": [
        {
          "output_type": "execute_result",
          "data": {
            "text/plain": [
              "<folium.folium.Map at 0x7f937c5fe4f0>"
            ],
            "text/html": [
              "<div style=\"width:100%;\"><div style=\"position:relative;width:100%;height:0;padding-bottom:60%;\"><span style=\"color:#565656\">Make this Notebook Trusted to load map: File -> Trust Notebook</span><iframe srcdoc=\"&lt;!DOCTYPE html&gt;\n",
              "&lt;html&gt;\n",
              "&lt;head&gt;\n",
              "    \n",
              "    &lt;meta http-equiv=&quot;content-type&quot; content=&quot;text/html; charset=UTF-8&quot; /&gt;\n",
              "    \n",
              "        &lt;script&gt;\n",
              "            L_NO_TOUCH = false;\n",
              "            L_DISABLE_3D = false;\n",
              "        &lt;/script&gt;\n",
              "    \n",
              "    &lt;style&gt;html, body {width: 100%;height: 100%;margin: 0;padding: 0;}&lt;/style&gt;\n",
              "    &lt;style&gt;#map {position:absolute;top:0;bottom:0;right:0;left:0;}&lt;/style&gt;\n",
              "    &lt;script src=&quot;https://cdn.jsdelivr.net/npm/leaflet@1.6.0/dist/leaflet.js&quot;&gt;&lt;/script&gt;\n",
              "    &lt;script src=&quot;https://code.jquery.com/jquery-1.12.4.min.js&quot;&gt;&lt;/script&gt;\n",
              "    &lt;script src=&quot;https://maxcdn.bootstrapcdn.com/bootstrap/3.2.0/js/bootstrap.min.js&quot;&gt;&lt;/script&gt;\n",
              "    &lt;script src=&quot;https://cdnjs.cloudflare.com/ajax/libs/Leaflet.awesome-markers/2.0.2/leaflet.awesome-markers.js&quot;&gt;&lt;/script&gt;\n",
              "    &lt;link rel=&quot;stylesheet&quot; href=&quot;https://cdn.jsdelivr.net/npm/leaflet@1.6.0/dist/leaflet.css&quot;/&gt;\n",
              "    &lt;link rel=&quot;stylesheet&quot; href=&quot;https://maxcdn.bootstrapcdn.com/bootstrap/3.2.0/css/bootstrap.min.css&quot;/&gt;\n",
              "    &lt;link rel=&quot;stylesheet&quot; href=&quot;https://maxcdn.bootstrapcdn.com/bootstrap/3.2.0/css/bootstrap-theme.min.css&quot;/&gt;\n",
              "    &lt;link rel=&quot;stylesheet&quot; href=&quot;https://maxcdn.bootstrapcdn.com/font-awesome/4.6.3/css/font-awesome.min.css&quot;/&gt;\n",
              "    &lt;link rel=&quot;stylesheet&quot; href=&quot;https://cdnjs.cloudflare.com/ajax/libs/Leaflet.awesome-markers/2.0.2/leaflet.awesome-markers.css&quot;/&gt;\n",
              "    &lt;link rel=&quot;stylesheet&quot; href=&quot;https://cdn.jsdelivr.net/gh/python-visualization/folium/folium/templates/leaflet.awesome.rotate.min.css&quot;/&gt;\n",
              "    \n",
              "            &lt;meta name=&quot;viewport&quot; content=&quot;width=device-width,\n",
              "                initial-scale=1.0, maximum-scale=1.0, user-scalable=no&quot; /&gt;\n",
              "            &lt;style&gt;\n",
              "                #map_a3d489a3d46c23b5db45c85ec3c86192 {\n",
              "                    position: relative;\n",
              "                    width: 60.0%;\n",
              "                    height: 80.0%;\n",
              "                    left: 0.0%;\n",
              "                    top: 0.0%;\n",
              "                }\n",
              "            &lt;/style&gt;\n",
              "        \n",
              "&lt;/head&gt;\n",
              "&lt;body&gt;\n",
              "    \n",
              "    \n",
              "            &lt;div class=&quot;folium-map&quot; id=&quot;map_a3d489a3d46c23b5db45c85ec3c86192&quot; &gt;&lt;/div&gt;\n",
              "        \n",
              "&lt;/body&gt;\n",
              "&lt;script&gt;\n",
              "    \n",
              "    \n",
              "            var map_a3d489a3d46c23b5db45c85ec3c86192 = L.map(\n",
              "                &quot;map_a3d489a3d46c23b5db45c85ec3c86192&quot;,\n",
              "                {\n",
              "                    center: [-31.6584428, -64.4273429],\n",
              "                    crs: L.CRS.EPSG3857,\n",
              "                    zoom: 13,\n",
              "                    zoomControl: true,\n",
              "                    preferCanvas: false,\n",
              "                }\n",
              "            );\n",
              "\n",
              "            \n",
              "\n",
              "        \n",
              "    \n",
              "            var tile_layer_22f925df8fbd626dd21f716d5b4ce9d2 = L.tileLayer(\n",
              "                &quot;https://{s}.tile.openstreetmap.org/{z}/{x}/{y}.png&quot;,\n",
              "                {&quot;attribution&quot;: &quot;Data by \\u0026copy; \\u003ca href=\\&quot;http://openstreetmap.org\\&quot;\\u003eOpenStreetMap\\u003c/a\\u003e, under \\u003ca href=\\&quot;http://www.openstreetmap.org/copyright\\&quot;\\u003eODbL\\u003c/a\\u003e.&quot;, &quot;detectRetina&quot;: false, &quot;maxNativeZoom&quot;: 18, &quot;maxZoom&quot;: 18, &quot;minZoom&quot;: 0, &quot;noWrap&quot;: false, &quot;opacity&quot;: 1, &quot;subdomains&quot;: &quot;abc&quot;, &quot;tms&quot;: false}\n",
              "            ).addTo(map_a3d489a3d46c23b5db45c85ec3c86192);\n",
              "        \n",
              "&lt;/script&gt;\n",
              "&lt;/html&gt;\" style=\"position:absolute;width:100%;height:100%;left:0;top:0;border:none !important;\" allowfullscreen webkitallowfullscreen mozallowfullscreen></iframe></div></div>"
            ]
          },
          "metadata": {},
          "execution_count": 21
        }
      ]
    },
    {
      "cell_type": "code",
      "source": [
        "fl.Marker(location=[-31.6563969,-64.4362172]).add_to(alta_gracia)\n",
        "fl.Marker(location=[-31.652414,-64.4381641]).add_to(alta_gracia)\n",
        "\n",
        "alta_gracia\n"
      ],
      "metadata": {
        "colab": {
          "base_uri": "https://localhost:8080/",
          "height": 532
        },
        "id": "tLnFb0UTIH1l",
        "outputId": "9cc26dee-42f1-4913-d9e4-e95da885f143"
      },
      "execution_count": null,
      "outputs": [
        {
          "output_type": "execute_result",
          "data": {
            "text/plain": [
              "<folium.folium.Map at 0x7f937c5fe4f0>"
            ],
            "text/html": [
              "<div style=\"width:100%;\"><div style=\"position:relative;width:100%;height:0;padding-bottom:60%;\"><span style=\"color:#565656\">Make this Notebook Trusted to load map: File -> Trust Notebook</span><iframe srcdoc=\"&lt;!DOCTYPE html&gt;\n",
              "&lt;html&gt;\n",
              "&lt;head&gt;\n",
              "    \n",
              "    &lt;meta http-equiv=&quot;content-type&quot; content=&quot;text/html; charset=UTF-8&quot; /&gt;\n",
              "    \n",
              "        &lt;script&gt;\n",
              "            L_NO_TOUCH = false;\n",
              "            L_DISABLE_3D = false;\n",
              "        &lt;/script&gt;\n",
              "    \n",
              "    &lt;style&gt;html, body {width: 100%;height: 100%;margin: 0;padding: 0;}&lt;/style&gt;\n",
              "    &lt;style&gt;#map {position:absolute;top:0;bottom:0;right:0;left:0;}&lt;/style&gt;\n",
              "    &lt;script src=&quot;https://cdn.jsdelivr.net/npm/leaflet@1.6.0/dist/leaflet.js&quot;&gt;&lt;/script&gt;\n",
              "    &lt;script src=&quot;https://code.jquery.com/jquery-1.12.4.min.js&quot;&gt;&lt;/script&gt;\n",
              "    &lt;script src=&quot;https://maxcdn.bootstrapcdn.com/bootstrap/3.2.0/js/bootstrap.min.js&quot;&gt;&lt;/script&gt;\n",
              "    &lt;script src=&quot;https://cdnjs.cloudflare.com/ajax/libs/Leaflet.awesome-markers/2.0.2/leaflet.awesome-markers.js&quot;&gt;&lt;/script&gt;\n",
              "    &lt;link rel=&quot;stylesheet&quot; href=&quot;https://cdn.jsdelivr.net/npm/leaflet@1.6.0/dist/leaflet.css&quot;/&gt;\n",
              "    &lt;link rel=&quot;stylesheet&quot; href=&quot;https://maxcdn.bootstrapcdn.com/bootstrap/3.2.0/css/bootstrap.min.css&quot;/&gt;\n",
              "    &lt;link rel=&quot;stylesheet&quot; href=&quot;https://maxcdn.bootstrapcdn.com/bootstrap/3.2.0/css/bootstrap-theme.min.css&quot;/&gt;\n",
              "    &lt;link rel=&quot;stylesheet&quot; href=&quot;https://maxcdn.bootstrapcdn.com/font-awesome/4.6.3/css/font-awesome.min.css&quot;/&gt;\n",
              "    &lt;link rel=&quot;stylesheet&quot; href=&quot;https://cdnjs.cloudflare.com/ajax/libs/Leaflet.awesome-markers/2.0.2/leaflet.awesome-markers.css&quot;/&gt;\n",
              "    &lt;link rel=&quot;stylesheet&quot; href=&quot;https://cdn.jsdelivr.net/gh/python-visualization/folium/folium/templates/leaflet.awesome.rotate.min.css&quot;/&gt;\n",
              "    \n",
              "            &lt;meta name=&quot;viewport&quot; content=&quot;width=device-width,\n",
              "                initial-scale=1.0, maximum-scale=1.0, user-scalable=no&quot; /&gt;\n",
              "            &lt;style&gt;\n",
              "                #map_a3d489a3d46c23b5db45c85ec3c86192 {\n",
              "                    position: relative;\n",
              "                    width: 60.0%;\n",
              "                    height: 80.0%;\n",
              "                    left: 0.0%;\n",
              "                    top: 0.0%;\n",
              "                }\n",
              "            &lt;/style&gt;\n",
              "        \n",
              "&lt;/head&gt;\n",
              "&lt;body&gt;\n",
              "    \n",
              "    \n",
              "            &lt;div class=&quot;folium-map&quot; id=&quot;map_a3d489a3d46c23b5db45c85ec3c86192&quot; &gt;&lt;/div&gt;\n",
              "        \n",
              "&lt;/body&gt;\n",
              "&lt;script&gt;\n",
              "    \n",
              "    \n",
              "            var map_a3d489a3d46c23b5db45c85ec3c86192 = L.map(\n",
              "                &quot;map_a3d489a3d46c23b5db45c85ec3c86192&quot;,\n",
              "                {\n",
              "                    center: [-31.6584428, -64.4273429],\n",
              "                    crs: L.CRS.EPSG3857,\n",
              "                    zoom: 13,\n",
              "                    zoomControl: true,\n",
              "                    preferCanvas: false,\n",
              "                }\n",
              "            );\n",
              "\n",
              "            \n",
              "\n",
              "        \n",
              "    \n",
              "            var tile_layer_22f925df8fbd626dd21f716d5b4ce9d2 = L.tileLayer(\n",
              "                &quot;https://{s}.tile.openstreetmap.org/{z}/{x}/{y}.png&quot;,\n",
              "                {&quot;attribution&quot;: &quot;Data by \\u0026copy; \\u003ca href=\\&quot;http://openstreetmap.org\\&quot;\\u003eOpenStreetMap\\u003c/a\\u003e, under \\u003ca href=\\&quot;http://www.openstreetmap.org/copyright\\&quot;\\u003eODbL\\u003c/a\\u003e.&quot;, &quot;detectRetina&quot;: false, &quot;maxNativeZoom&quot;: 18, &quot;maxZoom&quot;: 18, &quot;minZoom&quot;: 0, &quot;noWrap&quot;: false, &quot;opacity&quot;: 1, &quot;subdomains&quot;: &quot;abc&quot;, &quot;tms&quot;: false}\n",
              "            ).addTo(map_a3d489a3d46c23b5db45c85ec3c86192);\n",
              "        \n",
              "    \n",
              "            var marker_e729a7a1ad23d0277d3a523599e5d561 = L.marker(\n",
              "                [-31.6563969, -64.4362172],\n",
              "                {}\n",
              "            ).addTo(map_a3d489a3d46c23b5db45c85ec3c86192);\n",
              "        \n",
              "    \n",
              "            var marker_836fcd451aeb3bf3fce945acea031039 = L.marker(\n",
              "                [-31.652414, -64.4381641],\n",
              "                {}\n",
              "            ).addTo(map_a3d489a3d46c23b5db45c85ec3c86192);\n",
              "        \n",
              "&lt;/script&gt;\n",
              "&lt;/html&gt;\" style=\"position:absolute;width:100%;height:100%;left:0;top:0;border:none !important;\" allowfullscreen webkitallowfullscreen mozallowfullscreen></iframe></div></div>"
            ]
          },
          "metadata": {},
          "execution_count": 22
        }
      ]
    },
    {
      "cell_type": "markdown",
      "source": [
        "###Parametro popup\n",
        "\n",
        "Al dar clic en el marcador se mostrara la cadena\n",
        "\n",
        "Marker(location=[longitud,latitud],popup=cadena)"
      ],
      "metadata": {
        "id": "HvSSQw1XKj99"
      }
    },
    {
      "cell_type": "code",
      "source": [
        "#Como cadena\n",
        "fl.Marker(location=[-31.658432,-64.409610],popup=\"Hola este es el crucero\").add_to(alta_gracia)\n",
        "alta_gracia"
      ],
      "metadata": {
        "colab": {
          "base_uri": "https://localhost:8080/",
          "height": 532
        },
        "id": "JUn_AE5HK1RB",
        "outputId": "aa72ee4e-fbe0-4865-9823-ce7878dad1e6"
      },
      "execution_count": null,
      "outputs": [
        {
          "output_type": "execute_result",
          "data": {
            "text/plain": [
              "<folium.folium.Map at 0x7f937c5fe4f0>"
            ],
            "text/html": [
              "<div style=\"width:100%;\"><div style=\"position:relative;width:100%;height:0;padding-bottom:60%;\"><span style=\"color:#565656\">Make this Notebook Trusted to load map: File -> Trust Notebook</span><iframe srcdoc=\"&lt;!DOCTYPE html&gt;\n",
              "&lt;html&gt;\n",
              "&lt;head&gt;\n",
              "    \n",
              "    &lt;meta http-equiv=&quot;content-type&quot; content=&quot;text/html; charset=UTF-8&quot; /&gt;\n",
              "    \n",
              "        &lt;script&gt;\n",
              "            L_NO_TOUCH = false;\n",
              "            L_DISABLE_3D = false;\n",
              "        &lt;/script&gt;\n",
              "    \n",
              "    &lt;style&gt;html, body {width: 100%;height: 100%;margin: 0;padding: 0;}&lt;/style&gt;\n",
              "    &lt;style&gt;#map {position:absolute;top:0;bottom:0;right:0;left:0;}&lt;/style&gt;\n",
              "    &lt;script src=&quot;https://cdn.jsdelivr.net/npm/leaflet@1.6.0/dist/leaflet.js&quot;&gt;&lt;/script&gt;\n",
              "    &lt;script src=&quot;https://code.jquery.com/jquery-1.12.4.min.js&quot;&gt;&lt;/script&gt;\n",
              "    &lt;script src=&quot;https://maxcdn.bootstrapcdn.com/bootstrap/3.2.0/js/bootstrap.min.js&quot;&gt;&lt;/script&gt;\n",
              "    &lt;script src=&quot;https://cdnjs.cloudflare.com/ajax/libs/Leaflet.awesome-markers/2.0.2/leaflet.awesome-markers.js&quot;&gt;&lt;/script&gt;\n",
              "    &lt;link rel=&quot;stylesheet&quot; href=&quot;https://cdn.jsdelivr.net/npm/leaflet@1.6.0/dist/leaflet.css&quot;/&gt;\n",
              "    &lt;link rel=&quot;stylesheet&quot; href=&quot;https://maxcdn.bootstrapcdn.com/bootstrap/3.2.0/css/bootstrap.min.css&quot;/&gt;\n",
              "    &lt;link rel=&quot;stylesheet&quot; href=&quot;https://maxcdn.bootstrapcdn.com/bootstrap/3.2.0/css/bootstrap-theme.min.css&quot;/&gt;\n",
              "    &lt;link rel=&quot;stylesheet&quot; href=&quot;https://maxcdn.bootstrapcdn.com/font-awesome/4.6.3/css/font-awesome.min.css&quot;/&gt;\n",
              "    &lt;link rel=&quot;stylesheet&quot; href=&quot;https://cdnjs.cloudflare.com/ajax/libs/Leaflet.awesome-markers/2.0.2/leaflet.awesome-markers.css&quot;/&gt;\n",
              "    &lt;link rel=&quot;stylesheet&quot; href=&quot;https://cdn.jsdelivr.net/gh/python-visualization/folium/folium/templates/leaflet.awesome.rotate.min.css&quot;/&gt;\n",
              "    \n",
              "            &lt;meta name=&quot;viewport&quot; content=&quot;width=device-width,\n",
              "                initial-scale=1.0, maximum-scale=1.0, user-scalable=no&quot; /&gt;\n",
              "            &lt;style&gt;\n",
              "                #map_a3d489a3d46c23b5db45c85ec3c86192 {\n",
              "                    position: relative;\n",
              "                    width: 60.0%;\n",
              "                    height: 80.0%;\n",
              "                    left: 0.0%;\n",
              "                    top: 0.0%;\n",
              "                }\n",
              "            &lt;/style&gt;\n",
              "        \n",
              "&lt;/head&gt;\n",
              "&lt;body&gt;\n",
              "    \n",
              "    \n",
              "            &lt;div class=&quot;folium-map&quot; id=&quot;map_a3d489a3d46c23b5db45c85ec3c86192&quot; &gt;&lt;/div&gt;\n",
              "        \n",
              "&lt;/body&gt;\n",
              "&lt;script&gt;\n",
              "    \n",
              "    \n",
              "            var map_a3d489a3d46c23b5db45c85ec3c86192 = L.map(\n",
              "                &quot;map_a3d489a3d46c23b5db45c85ec3c86192&quot;,\n",
              "                {\n",
              "                    center: [-31.6584428, -64.4273429],\n",
              "                    crs: L.CRS.EPSG3857,\n",
              "                    zoom: 13,\n",
              "                    zoomControl: true,\n",
              "                    preferCanvas: false,\n",
              "                }\n",
              "            );\n",
              "\n",
              "            \n",
              "\n",
              "        \n",
              "    \n",
              "            var tile_layer_22f925df8fbd626dd21f716d5b4ce9d2 = L.tileLayer(\n",
              "                &quot;https://{s}.tile.openstreetmap.org/{z}/{x}/{y}.png&quot;,\n",
              "                {&quot;attribution&quot;: &quot;Data by \\u0026copy; \\u003ca href=\\&quot;http://openstreetmap.org\\&quot;\\u003eOpenStreetMap\\u003c/a\\u003e, under \\u003ca href=\\&quot;http://www.openstreetmap.org/copyright\\&quot;\\u003eODbL\\u003c/a\\u003e.&quot;, &quot;detectRetina&quot;: false, &quot;maxNativeZoom&quot;: 18, &quot;maxZoom&quot;: 18, &quot;minZoom&quot;: 0, &quot;noWrap&quot;: false, &quot;opacity&quot;: 1, &quot;subdomains&quot;: &quot;abc&quot;, &quot;tms&quot;: false}\n",
              "            ).addTo(map_a3d489a3d46c23b5db45c85ec3c86192);\n",
              "        \n",
              "    \n",
              "            var marker_e729a7a1ad23d0277d3a523599e5d561 = L.marker(\n",
              "                [-31.6563969, -64.4362172],\n",
              "                {}\n",
              "            ).addTo(map_a3d489a3d46c23b5db45c85ec3c86192);\n",
              "        \n",
              "    \n",
              "            var marker_836fcd451aeb3bf3fce945acea031039 = L.marker(\n",
              "                [-31.652414, -64.4381641],\n",
              "                {}\n",
              "            ).addTo(map_a3d489a3d46c23b5db45c85ec3c86192);\n",
              "        \n",
              "    \n",
              "            var marker_d83f9784556714d59072c34d8f79364e = L.marker(\n",
              "                [-31.658432, -64.40961],\n",
              "                {}\n",
              "            ).addTo(map_a3d489a3d46c23b5db45c85ec3c86192);\n",
              "        \n",
              "    \n",
              "        var popup_f15b3d43acbb16016ec15b7b73d47925 = L.popup({&quot;maxWidth&quot;: &quot;100%&quot;});\n",
              "\n",
              "        \n",
              "            var html_c39429be9f4c6764f214e55479352ece = $(`&lt;div id=&quot;html_c39429be9f4c6764f214e55479352ece&quot; style=&quot;width: 100.0%; height: 100.0%;&quot;&gt;Hola este es el crucero&lt;/div&gt;`)[0];\n",
              "            popup_f15b3d43acbb16016ec15b7b73d47925.setContent(html_c39429be9f4c6764f214e55479352ece);\n",
              "        \n",
              "\n",
              "        marker_d83f9784556714d59072c34d8f79364e.bindPopup(popup_f15b3d43acbb16016ec15b7b73d47925)\n",
              "        ;\n",
              "\n",
              "        \n",
              "    \n",
              "&lt;/script&gt;\n",
              "&lt;/html&gt;\" style=\"position:absolute;width:100%;height:100%;left:0;top:0;border:none !important;\" allowfullscreen webkitallowfullscreen mozallowfullscreen></iframe></div></div>"
            ]
          },
          "metadata": {},
          "execution_count": 23
        }
      ]
    },
    {
      "cell_type": "code",
      "source": [
        "#Como con funcion Folium.Popup\n",
        "fl.Marker(location=[-31.637027,-64.403873],popup=fl.Popup(\"Hola este es el ACCESO NORTE\",max_width=150)).add_to(alta_gracia)\n",
        "alta_gracia"
      ],
      "metadata": {
        "colab": {
          "base_uri": "https://localhost:8080/",
          "height": 532
        },
        "id": "uLyojaehMlgE",
        "outputId": "8784c2ec-b545-4d58-8503-83320bb52cb5"
      },
      "execution_count": null,
      "outputs": [
        {
          "output_type": "execute_result",
          "data": {
            "text/plain": [
              "<folium.folium.Map at 0x7f937c5fe4f0>"
            ],
            "text/html": [
              "<div style=\"width:100%;\"><div style=\"position:relative;width:100%;height:0;padding-bottom:60%;\"><span style=\"color:#565656\">Make this Notebook Trusted to load map: File -> Trust Notebook</span><iframe srcdoc=\"&lt;!DOCTYPE html&gt;\n",
              "&lt;html&gt;\n",
              "&lt;head&gt;\n",
              "    \n",
              "    &lt;meta http-equiv=&quot;content-type&quot; content=&quot;text/html; charset=UTF-8&quot; /&gt;\n",
              "    \n",
              "        &lt;script&gt;\n",
              "            L_NO_TOUCH = false;\n",
              "            L_DISABLE_3D = false;\n",
              "        &lt;/script&gt;\n",
              "    \n",
              "    &lt;style&gt;html, body {width: 100%;height: 100%;margin: 0;padding: 0;}&lt;/style&gt;\n",
              "    &lt;style&gt;#map {position:absolute;top:0;bottom:0;right:0;left:0;}&lt;/style&gt;\n",
              "    &lt;script src=&quot;https://cdn.jsdelivr.net/npm/leaflet@1.6.0/dist/leaflet.js&quot;&gt;&lt;/script&gt;\n",
              "    &lt;script src=&quot;https://code.jquery.com/jquery-1.12.4.min.js&quot;&gt;&lt;/script&gt;\n",
              "    &lt;script src=&quot;https://maxcdn.bootstrapcdn.com/bootstrap/3.2.0/js/bootstrap.min.js&quot;&gt;&lt;/script&gt;\n",
              "    &lt;script src=&quot;https://cdnjs.cloudflare.com/ajax/libs/Leaflet.awesome-markers/2.0.2/leaflet.awesome-markers.js&quot;&gt;&lt;/script&gt;\n",
              "    &lt;link rel=&quot;stylesheet&quot; href=&quot;https://cdn.jsdelivr.net/npm/leaflet@1.6.0/dist/leaflet.css&quot;/&gt;\n",
              "    &lt;link rel=&quot;stylesheet&quot; href=&quot;https://maxcdn.bootstrapcdn.com/bootstrap/3.2.0/css/bootstrap.min.css&quot;/&gt;\n",
              "    &lt;link rel=&quot;stylesheet&quot; href=&quot;https://maxcdn.bootstrapcdn.com/bootstrap/3.2.0/css/bootstrap-theme.min.css&quot;/&gt;\n",
              "    &lt;link rel=&quot;stylesheet&quot; href=&quot;https://maxcdn.bootstrapcdn.com/font-awesome/4.6.3/css/font-awesome.min.css&quot;/&gt;\n",
              "    &lt;link rel=&quot;stylesheet&quot; href=&quot;https://cdnjs.cloudflare.com/ajax/libs/Leaflet.awesome-markers/2.0.2/leaflet.awesome-markers.css&quot;/&gt;\n",
              "    &lt;link rel=&quot;stylesheet&quot; href=&quot;https://cdn.jsdelivr.net/gh/python-visualization/folium/folium/templates/leaflet.awesome.rotate.min.css&quot;/&gt;\n",
              "    \n",
              "            &lt;meta name=&quot;viewport&quot; content=&quot;width=device-width,\n",
              "                initial-scale=1.0, maximum-scale=1.0, user-scalable=no&quot; /&gt;\n",
              "            &lt;style&gt;\n",
              "                #map_a3d489a3d46c23b5db45c85ec3c86192 {\n",
              "                    position: relative;\n",
              "                    width: 60.0%;\n",
              "                    height: 80.0%;\n",
              "                    left: 0.0%;\n",
              "                    top: 0.0%;\n",
              "                }\n",
              "            &lt;/style&gt;\n",
              "        \n",
              "&lt;/head&gt;\n",
              "&lt;body&gt;\n",
              "    \n",
              "    \n",
              "            &lt;div class=&quot;folium-map&quot; id=&quot;map_a3d489a3d46c23b5db45c85ec3c86192&quot; &gt;&lt;/div&gt;\n",
              "        \n",
              "&lt;/body&gt;\n",
              "&lt;script&gt;\n",
              "    \n",
              "    \n",
              "            var map_a3d489a3d46c23b5db45c85ec3c86192 = L.map(\n",
              "                &quot;map_a3d489a3d46c23b5db45c85ec3c86192&quot;,\n",
              "                {\n",
              "                    center: [-31.6584428, -64.4273429],\n",
              "                    crs: L.CRS.EPSG3857,\n",
              "                    zoom: 13,\n",
              "                    zoomControl: true,\n",
              "                    preferCanvas: false,\n",
              "                }\n",
              "            );\n",
              "\n",
              "            \n",
              "\n",
              "        \n",
              "    \n",
              "            var tile_layer_22f925df8fbd626dd21f716d5b4ce9d2 = L.tileLayer(\n",
              "                &quot;https://{s}.tile.openstreetmap.org/{z}/{x}/{y}.png&quot;,\n",
              "                {&quot;attribution&quot;: &quot;Data by \\u0026copy; \\u003ca href=\\&quot;http://openstreetmap.org\\&quot;\\u003eOpenStreetMap\\u003c/a\\u003e, under \\u003ca href=\\&quot;http://www.openstreetmap.org/copyright\\&quot;\\u003eODbL\\u003c/a\\u003e.&quot;, &quot;detectRetina&quot;: false, &quot;maxNativeZoom&quot;: 18, &quot;maxZoom&quot;: 18, &quot;minZoom&quot;: 0, &quot;noWrap&quot;: false, &quot;opacity&quot;: 1, &quot;subdomains&quot;: &quot;abc&quot;, &quot;tms&quot;: false}\n",
              "            ).addTo(map_a3d489a3d46c23b5db45c85ec3c86192);\n",
              "        \n",
              "    \n",
              "            var marker_e729a7a1ad23d0277d3a523599e5d561 = L.marker(\n",
              "                [-31.6563969, -64.4362172],\n",
              "                {}\n",
              "            ).addTo(map_a3d489a3d46c23b5db45c85ec3c86192);\n",
              "        \n",
              "    \n",
              "            var marker_836fcd451aeb3bf3fce945acea031039 = L.marker(\n",
              "                [-31.652414, -64.4381641],\n",
              "                {}\n",
              "            ).addTo(map_a3d489a3d46c23b5db45c85ec3c86192);\n",
              "        \n",
              "    \n",
              "            var marker_d83f9784556714d59072c34d8f79364e = L.marker(\n",
              "                [-31.658432, -64.40961],\n",
              "                {}\n",
              "            ).addTo(map_a3d489a3d46c23b5db45c85ec3c86192);\n",
              "        \n",
              "    \n",
              "        var popup_f15b3d43acbb16016ec15b7b73d47925 = L.popup({&quot;maxWidth&quot;: &quot;100%&quot;});\n",
              "\n",
              "        \n",
              "            var html_c39429be9f4c6764f214e55479352ece = $(`&lt;div id=&quot;html_c39429be9f4c6764f214e55479352ece&quot; style=&quot;width: 100.0%; height: 100.0%;&quot;&gt;Hola este es el crucero&lt;/div&gt;`)[0];\n",
              "            popup_f15b3d43acbb16016ec15b7b73d47925.setContent(html_c39429be9f4c6764f214e55479352ece);\n",
              "        \n",
              "\n",
              "        marker_d83f9784556714d59072c34d8f79364e.bindPopup(popup_f15b3d43acbb16016ec15b7b73d47925)\n",
              "        ;\n",
              "\n",
              "        \n",
              "    \n",
              "    \n",
              "            var marker_e41c8930f40cde103caefe8a86e6c04c = L.marker(\n",
              "                [-31.637027, -64.403873],\n",
              "                {}\n",
              "            ).addTo(map_a3d489a3d46c23b5db45c85ec3c86192);\n",
              "        \n",
              "    \n",
              "        var popup_9109784e0a087d2fbffb185508b4c661 = L.popup({&quot;maxWidth&quot;: 150});\n",
              "\n",
              "        \n",
              "            var html_a24abaeeaaf6e5d4f19145a8577d8510 = $(`&lt;div id=&quot;html_a24abaeeaaf6e5d4f19145a8577d8510&quot; style=&quot;width: 100.0%; height: 100.0%;&quot;&gt;Hola este es el ACCESO NORTE&lt;/div&gt;`)[0];\n",
              "            popup_9109784e0a087d2fbffb185508b4c661.setContent(html_a24abaeeaaf6e5d4f19145a8577d8510);\n",
              "        \n",
              "\n",
              "        marker_e41c8930f40cde103caefe8a86e6c04c.bindPopup(popup_9109784e0a087d2fbffb185508b4c661)\n",
              "        ;\n",
              "\n",
              "        \n",
              "    \n",
              "&lt;/script&gt;\n",
              "&lt;/html&gt;\" style=\"position:absolute;width:100%;height:100%;left:0;top:0;border:none !important;\" allowfullscreen webkitallowfullscreen mozallowfullscreen></iframe></div></div>"
            ]
          },
          "metadata": {},
          "execution_count": 24
        }
      ]
    },
    {
      "cell_type": "markdown",
      "source": [
        "###Parametro tooltip\n",
        "muestra un texto al pasar el cursor sobre el marcador\n",
        "Marker(location=[longitud,latitud],tooltip=cadena)"
      ],
      "metadata": {
        "id": "7PjsscdGPlXX"
      }
    },
    {
      "cell_type": "code",
      "source": [
        "fl.Marker(location=[-31.6487876,-64.4414353],tooltip=\"Hola este es el museo CHE Guevara\").add_to(alta_gracia)\n",
        "alta_gracia"
      ],
      "metadata": {
        "colab": {
          "base_uri": "https://localhost:8080/",
          "height": 532
        },
        "id": "fRhDfCjwP6vJ",
        "outputId": "2c37a43c-e498-4da5-d95a-250e065a255d"
      },
      "execution_count": null,
      "outputs": [
        {
          "output_type": "execute_result",
          "data": {
            "text/plain": [
              "<folium.folium.Map at 0x7f937c5fe4f0>"
            ],
            "text/html": [
              "<div style=\"width:100%;\"><div style=\"position:relative;width:100%;height:0;padding-bottom:60%;\"><span style=\"color:#565656\">Make this Notebook Trusted to load map: File -> Trust Notebook</span><iframe srcdoc=\"&lt;!DOCTYPE html&gt;\n",
              "&lt;html&gt;\n",
              "&lt;head&gt;\n",
              "    \n",
              "    &lt;meta http-equiv=&quot;content-type&quot; content=&quot;text/html; charset=UTF-8&quot; /&gt;\n",
              "    \n",
              "        &lt;script&gt;\n",
              "            L_NO_TOUCH = false;\n",
              "            L_DISABLE_3D = false;\n",
              "        &lt;/script&gt;\n",
              "    \n",
              "    &lt;style&gt;html, body {width: 100%;height: 100%;margin: 0;padding: 0;}&lt;/style&gt;\n",
              "    &lt;style&gt;#map {position:absolute;top:0;bottom:0;right:0;left:0;}&lt;/style&gt;\n",
              "    &lt;script src=&quot;https://cdn.jsdelivr.net/npm/leaflet@1.6.0/dist/leaflet.js&quot;&gt;&lt;/script&gt;\n",
              "    &lt;script src=&quot;https://code.jquery.com/jquery-1.12.4.min.js&quot;&gt;&lt;/script&gt;\n",
              "    &lt;script src=&quot;https://maxcdn.bootstrapcdn.com/bootstrap/3.2.0/js/bootstrap.min.js&quot;&gt;&lt;/script&gt;\n",
              "    &lt;script src=&quot;https://cdnjs.cloudflare.com/ajax/libs/Leaflet.awesome-markers/2.0.2/leaflet.awesome-markers.js&quot;&gt;&lt;/script&gt;\n",
              "    &lt;link rel=&quot;stylesheet&quot; href=&quot;https://cdn.jsdelivr.net/npm/leaflet@1.6.0/dist/leaflet.css&quot;/&gt;\n",
              "    &lt;link rel=&quot;stylesheet&quot; href=&quot;https://maxcdn.bootstrapcdn.com/bootstrap/3.2.0/css/bootstrap.min.css&quot;/&gt;\n",
              "    &lt;link rel=&quot;stylesheet&quot; href=&quot;https://maxcdn.bootstrapcdn.com/bootstrap/3.2.0/css/bootstrap-theme.min.css&quot;/&gt;\n",
              "    &lt;link rel=&quot;stylesheet&quot; href=&quot;https://maxcdn.bootstrapcdn.com/font-awesome/4.6.3/css/font-awesome.min.css&quot;/&gt;\n",
              "    &lt;link rel=&quot;stylesheet&quot; href=&quot;https://cdnjs.cloudflare.com/ajax/libs/Leaflet.awesome-markers/2.0.2/leaflet.awesome-markers.css&quot;/&gt;\n",
              "    &lt;link rel=&quot;stylesheet&quot; href=&quot;https://cdn.jsdelivr.net/gh/python-visualization/folium/folium/templates/leaflet.awesome.rotate.min.css&quot;/&gt;\n",
              "    \n",
              "            &lt;meta name=&quot;viewport&quot; content=&quot;width=device-width,\n",
              "                initial-scale=1.0, maximum-scale=1.0, user-scalable=no&quot; /&gt;\n",
              "            &lt;style&gt;\n",
              "                #map_a3d489a3d46c23b5db45c85ec3c86192 {\n",
              "                    position: relative;\n",
              "                    width: 60.0%;\n",
              "                    height: 80.0%;\n",
              "                    left: 0.0%;\n",
              "                    top: 0.0%;\n",
              "                }\n",
              "            &lt;/style&gt;\n",
              "        \n",
              "&lt;/head&gt;\n",
              "&lt;body&gt;\n",
              "    \n",
              "    \n",
              "            &lt;div class=&quot;folium-map&quot; id=&quot;map_a3d489a3d46c23b5db45c85ec3c86192&quot; &gt;&lt;/div&gt;\n",
              "        \n",
              "&lt;/body&gt;\n",
              "&lt;script&gt;\n",
              "    \n",
              "    \n",
              "            var map_a3d489a3d46c23b5db45c85ec3c86192 = L.map(\n",
              "                &quot;map_a3d489a3d46c23b5db45c85ec3c86192&quot;,\n",
              "                {\n",
              "                    center: [-31.6584428, -64.4273429],\n",
              "                    crs: L.CRS.EPSG3857,\n",
              "                    zoom: 13,\n",
              "                    zoomControl: true,\n",
              "                    preferCanvas: false,\n",
              "                }\n",
              "            );\n",
              "\n",
              "            \n",
              "\n",
              "        \n",
              "    \n",
              "            var tile_layer_22f925df8fbd626dd21f716d5b4ce9d2 = L.tileLayer(\n",
              "                &quot;https://{s}.tile.openstreetmap.org/{z}/{x}/{y}.png&quot;,\n",
              "                {&quot;attribution&quot;: &quot;Data by \\u0026copy; \\u003ca href=\\&quot;http://openstreetmap.org\\&quot;\\u003eOpenStreetMap\\u003c/a\\u003e, under \\u003ca href=\\&quot;http://www.openstreetmap.org/copyright\\&quot;\\u003eODbL\\u003c/a\\u003e.&quot;, &quot;detectRetina&quot;: false, &quot;maxNativeZoom&quot;: 18, &quot;maxZoom&quot;: 18, &quot;minZoom&quot;: 0, &quot;noWrap&quot;: false, &quot;opacity&quot;: 1, &quot;subdomains&quot;: &quot;abc&quot;, &quot;tms&quot;: false}\n",
              "            ).addTo(map_a3d489a3d46c23b5db45c85ec3c86192);\n",
              "        \n",
              "    \n",
              "            var marker_e729a7a1ad23d0277d3a523599e5d561 = L.marker(\n",
              "                [-31.6563969, -64.4362172],\n",
              "                {}\n",
              "            ).addTo(map_a3d489a3d46c23b5db45c85ec3c86192);\n",
              "        \n",
              "    \n",
              "            var marker_836fcd451aeb3bf3fce945acea031039 = L.marker(\n",
              "                [-31.652414, -64.4381641],\n",
              "                {}\n",
              "            ).addTo(map_a3d489a3d46c23b5db45c85ec3c86192);\n",
              "        \n",
              "    \n",
              "            var marker_d83f9784556714d59072c34d8f79364e = L.marker(\n",
              "                [-31.658432, -64.40961],\n",
              "                {}\n",
              "            ).addTo(map_a3d489a3d46c23b5db45c85ec3c86192);\n",
              "        \n",
              "    \n",
              "        var popup_f15b3d43acbb16016ec15b7b73d47925 = L.popup({&quot;maxWidth&quot;: &quot;100%&quot;});\n",
              "\n",
              "        \n",
              "            var html_c39429be9f4c6764f214e55479352ece = $(`&lt;div id=&quot;html_c39429be9f4c6764f214e55479352ece&quot; style=&quot;width: 100.0%; height: 100.0%;&quot;&gt;Hola este es el crucero&lt;/div&gt;`)[0];\n",
              "            popup_f15b3d43acbb16016ec15b7b73d47925.setContent(html_c39429be9f4c6764f214e55479352ece);\n",
              "        \n",
              "\n",
              "        marker_d83f9784556714d59072c34d8f79364e.bindPopup(popup_f15b3d43acbb16016ec15b7b73d47925)\n",
              "        ;\n",
              "\n",
              "        \n",
              "    \n",
              "    \n",
              "            var marker_e41c8930f40cde103caefe8a86e6c04c = L.marker(\n",
              "                [-31.637027, -64.403873],\n",
              "                {}\n",
              "            ).addTo(map_a3d489a3d46c23b5db45c85ec3c86192);\n",
              "        \n",
              "    \n",
              "        var popup_9109784e0a087d2fbffb185508b4c661 = L.popup({&quot;maxWidth&quot;: 150});\n",
              "\n",
              "        \n",
              "            var html_a24abaeeaaf6e5d4f19145a8577d8510 = $(`&lt;div id=&quot;html_a24abaeeaaf6e5d4f19145a8577d8510&quot; style=&quot;width: 100.0%; height: 100.0%;&quot;&gt;Hola este es el ACCESO NORTE&lt;/div&gt;`)[0];\n",
              "            popup_9109784e0a087d2fbffb185508b4c661.setContent(html_a24abaeeaaf6e5d4f19145a8577d8510);\n",
              "        \n",
              "\n",
              "        marker_e41c8930f40cde103caefe8a86e6c04c.bindPopup(popup_9109784e0a087d2fbffb185508b4c661)\n",
              "        ;\n",
              "\n",
              "        \n",
              "    \n",
              "    \n",
              "            var marker_2a55b860f4490615636dc5aba38d8ecd = L.marker(\n",
              "                [-31.6487876, -64.4414353],\n",
              "                {}\n",
              "            ).addTo(map_a3d489a3d46c23b5db45c85ec3c86192);\n",
              "        \n",
              "    \n",
              "            marker_2a55b860f4490615636dc5aba38d8ecd.bindTooltip(\n",
              "                `&lt;div&gt;\n",
              "                     Hola este es el museo CHE Guevara\n",
              "                 &lt;/div&gt;`,\n",
              "                {&quot;sticky&quot;: true}\n",
              "            );\n",
              "        \n",
              "&lt;/script&gt;\n",
              "&lt;/html&gt;\" style=\"position:absolute;width:100%;height:100%;left:0;top:0;border:none !important;\" allowfullscreen webkitallowfullscreen mozallowfullscreen></iframe></div></div>"
            ]
          },
          "metadata": {},
          "execution_count": 25
        }
      ]
    },
    {
      "cell_type": "markdown",
      "source": [
        "###Parametro icon\n",
        "El complemento de icono que se utilizara para representar el marcador.\n",
        "\n",
        "Marker(location=[long,lat],icon=fl.Icon(color=str,icon_color=str,icon=str))"
      ],
      "metadata": {
        "id": "zmXKr8wRQtBn"
      }
    },
    {
      "cell_type": "markdown",
      "source": [
        "Funcion Icon La funcion Icon permite enviarle los siguientes parametros:\n",
        "\n",
        "*   Color (str,predeterminado \"blue\"):El color del marcador. Puedes usar: red, blue, green, purple, orange,darkred,lightred,beige,darkblue,darkgreen,cadetblue, darkpurple, white, pink, ligthblue, ligthgreen, gray, black, lightgray)\n",
        "\n",
        "*   icon_color(str,predeterminado white): El color del icono. Puedes utilizar los colores de arriba o un color HTML.\n",
        "\n",
        "*   icon(str,predeterminado \"info-sign\"): El nombre del icono. Puedes encontrar todos los iconos disponibles en: Font-Awesome, no olvidar prefix=\"fa\"\n",
        "\n",
        "...mas en: Documentacion de Folium:Icon"
      ],
      "metadata": {
        "id": "r1_IQkZ0RKUd"
      }
    },
    {
      "cell_type": "code",
      "source": [
        "fl.Marker(location=[-31.6473322,-64.4498558],icon=fl.Icon(color=\"purple\",icon_color=\"darkblue\",icon=\"sun-o\",prefix=\"fa\")).add_to(alta_gracia)\n",
        "alta_gracia"
      ],
      "metadata": {
        "id": "cu464f61RHjx",
        "colab": {
          "base_uri": "https://localhost:8080/",
          "height": 532
        },
        "outputId": "39ed982e-07db-40c6-c655-1252d4d1bec6"
      },
      "execution_count": null,
      "outputs": [
        {
          "output_type": "execute_result",
          "data": {
            "text/plain": [
              "<folium.folium.Map at 0x7f937c5fe4f0>"
            ],
            "text/html": [
              "<div style=\"width:100%;\"><div style=\"position:relative;width:100%;height:0;padding-bottom:60%;\"><span style=\"color:#565656\">Make this Notebook Trusted to load map: File -> Trust Notebook</span><iframe srcdoc=\"&lt;!DOCTYPE html&gt;\n",
              "&lt;html&gt;\n",
              "&lt;head&gt;\n",
              "    \n",
              "    &lt;meta http-equiv=&quot;content-type&quot; content=&quot;text/html; charset=UTF-8&quot; /&gt;\n",
              "    \n",
              "        &lt;script&gt;\n",
              "            L_NO_TOUCH = false;\n",
              "            L_DISABLE_3D = false;\n",
              "        &lt;/script&gt;\n",
              "    \n",
              "    &lt;style&gt;html, body {width: 100%;height: 100%;margin: 0;padding: 0;}&lt;/style&gt;\n",
              "    &lt;style&gt;#map {position:absolute;top:0;bottom:0;right:0;left:0;}&lt;/style&gt;\n",
              "    &lt;script src=&quot;https://cdn.jsdelivr.net/npm/leaflet@1.6.0/dist/leaflet.js&quot;&gt;&lt;/script&gt;\n",
              "    &lt;script src=&quot;https://code.jquery.com/jquery-1.12.4.min.js&quot;&gt;&lt;/script&gt;\n",
              "    &lt;script src=&quot;https://maxcdn.bootstrapcdn.com/bootstrap/3.2.0/js/bootstrap.min.js&quot;&gt;&lt;/script&gt;\n",
              "    &lt;script src=&quot;https://cdnjs.cloudflare.com/ajax/libs/Leaflet.awesome-markers/2.0.2/leaflet.awesome-markers.js&quot;&gt;&lt;/script&gt;\n",
              "    &lt;link rel=&quot;stylesheet&quot; href=&quot;https://cdn.jsdelivr.net/npm/leaflet@1.6.0/dist/leaflet.css&quot;/&gt;\n",
              "    &lt;link rel=&quot;stylesheet&quot; href=&quot;https://maxcdn.bootstrapcdn.com/bootstrap/3.2.0/css/bootstrap.min.css&quot;/&gt;\n",
              "    &lt;link rel=&quot;stylesheet&quot; href=&quot;https://maxcdn.bootstrapcdn.com/bootstrap/3.2.0/css/bootstrap-theme.min.css&quot;/&gt;\n",
              "    &lt;link rel=&quot;stylesheet&quot; href=&quot;https://maxcdn.bootstrapcdn.com/font-awesome/4.6.3/css/font-awesome.min.css&quot;/&gt;\n",
              "    &lt;link rel=&quot;stylesheet&quot; href=&quot;https://cdnjs.cloudflare.com/ajax/libs/Leaflet.awesome-markers/2.0.2/leaflet.awesome-markers.css&quot;/&gt;\n",
              "    &lt;link rel=&quot;stylesheet&quot; href=&quot;https://cdn.jsdelivr.net/gh/python-visualization/folium/folium/templates/leaflet.awesome.rotate.min.css&quot;/&gt;\n",
              "    \n",
              "            &lt;meta name=&quot;viewport&quot; content=&quot;width=device-width,\n",
              "                initial-scale=1.0, maximum-scale=1.0, user-scalable=no&quot; /&gt;\n",
              "            &lt;style&gt;\n",
              "                #map_a3d489a3d46c23b5db45c85ec3c86192 {\n",
              "                    position: relative;\n",
              "                    width: 60.0%;\n",
              "                    height: 80.0%;\n",
              "                    left: 0.0%;\n",
              "                    top: 0.0%;\n",
              "                }\n",
              "            &lt;/style&gt;\n",
              "        \n",
              "&lt;/head&gt;\n",
              "&lt;body&gt;\n",
              "    \n",
              "    \n",
              "            &lt;div class=&quot;folium-map&quot; id=&quot;map_a3d489a3d46c23b5db45c85ec3c86192&quot; &gt;&lt;/div&gt;\n",
              "        \n",
              "&lt;/body&gt;\n",
              "&lt;script&gt;\n",
              "    \n",
              "    \n",
              "            var map_a3d489a3d46c23b5db45c85ec3c86192 = L.map(\n",
              "                &quot;map_a3d489a3d46c23b5db45c85ec3c86192&quot;,\n",
              "                {\n",
              "                    center: [-31.6584428, -64.4273429],\n",
              "                    crs: L.CRS.EPSG3857,\n",
              "                    zoom: 13,\n",
              "                    zoomControl: true,\n",
              "                    preferCanvas: false,\n",
              "                }\n",
              "            );\n",
              "\n",
              "            \n",
              "\n",
              "        \n",
              "    \n",
              "            var tile_layer_22f925df8fbd626dd21f716d5b4ce9d2 = L.tileLayer(\n",
              "                &quot;https://{s}.tile.openstreetmap.org/{z}/{x}/{y}.png&quot;,\n",
              "                {&quot;attribution&quot;: &quot;Data by \\u0026copy; \\u003ca href=\\&quot;http://openstreetmap.org\\&quot;\\u003eOpenStreetMap\\u003c/a\\u003e, under \\u003ca href=\\&quot;http://www.openstreetmap.org/copyright\\&quot;\\u003eODbL\\u003c/a\\u003e.&quot;, &quot;detectRetina&quot;: false, &quot;maxNativeZoom&quot;: 18, &quot;maxZoom&quot;: 18, &quot;minZoom&quot;: 0, &quot;noWrap&quot;: false, &quot;opacity&quot;: 1, &quot;subdomains&quot;: &quot;abc&quot;, &quot;tms&quot;: false}\n",
              "            ).addTo(map_a3d489a3d46c23b5db45c85ec3c86192);\n",
              "        \n",
              "    \n",
              "            var marker_e729a7a1ad23d0277d3a523599e5d561 = L.marker(\n",
              "                [-31.6563969, -64.4362172],\n",
              "                {}\n",
              "            ).addTo(map_a3d489a3d46c23b5db45c85ec3c86192);\n",
              "        \n",
              "    \n",
              "            var marker_836fcd451aeb3bf3fce945acea031039 = L.marker(\n",
              "                [-31.652414, -64.4381641],\n",
              "                {}\n",
              "            ).addTo(map_a3d489a3d46c23b5db45c85ec3c86192);\n",
              "        \n",
              "    \n",
              "            var marker_d83f9784556714d59072c34d8f79364e = L.marker(\n",
              "                [-31.658432, -64.40961],\n",
              "                {}\n",
              "            ).addTo(map_a3d489a3d46c23b5db45c85ec3c86192);\n",
              "        \n",
              "    \n",
              "        var popup_f15b3d43acbb16016ec15b7b73d47925 = L.popup({&quot;maxWidth&quot;: &quot;100%&quot;});\n",
              "\n",
              "        \n",
              "            var html_c39429be9f4c6764f214e55479352ece = $(`&lt;div id=&quot;html_c39429be9f4c6764f214e55479352ece&quot; style=&quot;width: 100.0%; height: 100.0%;&quot;&gt;Hola este es el crucero&lt;/div&gt;`)[0];\n",
              "            popup_f15b3d43acbb16016ec15b7b73d47925.setContent(html_c39429be9f4c6764f214e55479352ece);\n",
              "        \n",
              "\n",
              "        marker_d83f9784556714d59072c34d8f79364e.bindPopup(popup_f15b3d43acbb16016ec15b7b73d47925)\n",
              "        ;\n",
              "\n",
              "        \n",
              "    \n",
              "    \n",
              "            var marker_e41c8930f40cde103caefe8a86e6c04c = L.marker(\n",
              "                [-31.637027, -64.403873],\n",
              "                {}\n",
              "            ).addTo(map_a3d489a3d46c23b5db45c85ec3c86192);\n",
              "        \n",
              "    \n",
              "        var popup_9109784e0a087d2fbffb185508b4c661 = L.popup({&quot;maxWidth&quot;: 150});\n",
              "\n",
              "        \n",
              "            var html_a24abaeeaaf6e5d4f19145a8577d8510 = $(`&lt;div id=&quot;html_a24abaeeaaf6e5d4f19145a8577d8510&quot; style=&quot;width: 100.0%; height: 100.0%;&quot;&gt;Hola este es el ACCESO NORTE&lt;/div&gt;`)[0];\n",
              "            popup_9109784e0a087d2fbffb185508b4c661.setContent(html_a24abaeeaaf6e5d4f19145a8577d8510);\n",
              "        \n",
              "\n",
              "        marker_e41c8930f40cde103caefe8a86e6c04c.bindPopup(popup_9109784e0a087d2fbffb185508b4c661)\n",
              "        ;\n",
              "\n",
              "        \n",
              "    \n",
              "    \n",
              "            var marker_2a55b860f4490615636dc5aba38d8ecd = L.marker(\n",
              "                [-31.6487876, -64.4414353],\n",
              "                {}\n",
              "            ).addTo(map_a3d489a3d46c23b5db45c85ec3c86192);\n",
              "        \n",
              "    \n",
              "            marker_2a55b860f4490615636dc5aba38d8ecd.bindTooltip(\n",
              "                `&lt;div&gt;\n",
              "                     Hola este es el museo CHE Guevara\n",
              "                 &lt;/div&gt;`,\n",
              "                {&quot;sticky&quot;: true}\n",
              "            );\n",
              "        \n",
              "    \n",
              "            var marker_5591b6ca68b2110d70da7799ed4a808c = L.marker(\n",
              "                [-31.6473322, -64.4498558],\n",
              "                {}\n",
              "            ).addTo(map_a3d489a3d46c23b5db45c85ec3c86192);\n",
              "        \n",
              "    \n",
              "            var icon_fcfef6dd9aae8d797cff72fb1b81fce4 = L.AwesomeMarkers.icon(\n",
              "                {&quot;extraClasses&quot;: &quot;fa-rotate-0&quot;, &quot;icon&quot;: &quot;sun-o&quot;, &quot;iconColor&quot;: &quot;darkblue&quot;, &quot;markerColor&quot;: &quot;purple&quot;, &quot;prefix&quot;: &quot;fa&quot;}\n",
              "            );\n",
              "            marker_5591b6ca68b2110d70da7799ed4a808c.setIcon(icon_fcfef6dd9aae8d797cff72fb1b81fce4);\n",
              "        \n",
              "&lt;/script&gt;\n",
              "&lt;/html&gt;\" style=\"position:absolute;width:100%;height:100%;left:0;top:0;border:none !important;\" allowfullscreen webkitallowfullscreen mozallowfullscreen></iframe></div></div>"
            ]
          },
          "metadata": {},
          "execution_count": 26
        }
      ]
    },
    {
      "cell_type": "markdown",
      "source": [
        "Tambien existen otras funciones de marcadores como:\n",
        "\n",
        "Circle(radius=int/float, location=[long,lat], popup=str, color=str, fill=bool, fill_color=str)\n",
        "\n",
        "CircleMarker(radius=int/float, location=[long,lat], popup=str, color=str, fill=bool, fill_color=str)\n",
        "\n",
        "RegularPolygonMarker(radius=int/float, location=[long,lat], popup=str, tooltip=str, fill_color=str, number_of_sides=int)"
      ],
      "metadata": {
        "id": "HTgkoLJYWMfo"
      }
    },
    {
      "cell_type": "markdown",
      "source": [
        "###Guardar el mapa en formato HTML\n",
        "\n"
      ],
      "metadata": {
        "id": "7mJJVbL0WHnw"
      }
    },
    {
      "cell_type": "markdown",
      "source": [
        "Para guardar nuestro mapa en un archivo html usaremos\n",
        "\n",
        "variableMap.save(nombre del arhivo)"
      ],
      "metadata": {
        "id": "BpnnWlK1XS1g"
      }
    },
    {
      "cell_type": "code",
      "source": [
        "alta_gracia.save(\"mapaaltagracia.html\")"
      ],
      "metadata": {
        "id": "_qCFF5zqXiRv"
      },
      "execution_count": null,
      "outputs": []
    },
    {
      "cell_type": "markdown",
      "source": [
        "# Panda"
      ],
      "metadata": {
        "id": "v7R3uxY4cOFR"
      }
    },
    {
      "cell_type": "markdown",
      "source": [
        "https://github.com/rodemore/Pyweekend/blob/master/Pandas.ipynb\n",
        "(otro archivo para ver)\n",
        "Usted tiene un archivo llamado cafeAxell.csv que almacena el registro de todas las cafeterias que ha visitado Axell, este archivo consta de 4 columnas:\n",
        "\n",
        "\n",
        "*   total(float):total gastado en la cafeteria\n",
        "*   empresa(str):Nombre de la empresa\n",
        "*   longitud(float):Longitud de la coordenada geografica\n",
        "*   latitud(float): Latitud de la coordenada geografica\n",
        "\n"
      ],
      "metadata": {
        "id": "ydt-wzQHcS5Y"
      }
    },
    {
      "cell_type": "code",
      "source": [
        "import pandas as pd\n",
        "import folium as fl\n",
        "data=pd.read_csv('cafe.csv',sep=';')\n",
        "data"
      ],
      "metadata": {
        "id": "BVISMg-td89-",
        "colab": {
          "base_uri": "https://localhost:8080/",
          "height": 143
        },
        "outputId": "34d8c9d5-2eba-412a-e33c-04aab1d0162e"
      },
      "execution_count": null,
      "outputs": [
        {
          "output_type": "execute_result",
          "data": {
            "text/plain": [
              "   total      empresa  longitud    latitud\n",
              "0  14.50        sweet -2.054352 -79.874913\n",
              "1  30.78  juan valdez -2.137203 -79.864329\n",
              "2  10.00        sweet -2.055654 -79.872816"
            ],
            "text/html": [
              "\n",
              "  <div id=\"df-62fa9f90-78f3-4a15-8db6-dc8310eb809a\">\n",
              "    <div class=\"colab-df-container\">\n",
              "      <div>\n",
              "<style scoped>\n",
              "    .dataframe tbody tr th:only-of-type {\n",
              "        vertical-align: middle;\n",
              "    }\n",
              "\n",
              "    .dataframe tbody tr th {\n",
              "        vertical-align: top;\n",
              "    }\n",
              "\n",
              "    .dataframe thead th {\n",
              "        text-align: right;\n",
              "    }\n",
              "</style>\n",
              "<table border=\"1\" class=\"dataframe\">\n",
              "  <thead>\n",
              "    <tr style=\"text-align: right;\">\n",
              "      <th></th>\n",
              "      <th>total</th>\n",
              "      <th>empresa</th>\n",
              "      <th>longitud</th>\n",
              "      <th>latitud</th>\n",
              "    </tr>\n",
              "  </thead>\n",
              "  <tbody>\n",
              "    <tr>\n",
              "      <th>0</th>\n",
              "      <td>14.50</td>\n",
              "      <td>sweet</td>\n",
              "      <td>-2.054352</td>\n",
              "      <td>-79.874913</td>\n",
              "    </tr>\n",
              "    <tr>\n",
              "      <th>1</th>\n",
              "      <td>30.78</td>\n",
              "      <td>juan valdez</td>\n",
              "      <td>-2.137203</td>\n",
              "      <td>-79.864329</td>\n",
              "    </tr>\n",
              "    <tr>\n",
              "      <th>2</th>\n",
              "      <td>10.00</td>\n",
              "      <td>sweet</td>\n",
              "      <td>-2.055654</td>\n",
              "      <td>-79.872816</td>\n",
              "    </tr>\n",
              "  </tbody>\n",
              "</table>\n",
              "</div>\n",
              "      <button class=\"colab-df-convert\" onclick=\"convertToInteractive('df-62fa9f90-78f3-4a15-8db6-dc8310eb809a')\"\n",
              "              title=\"Convert this dataframe to an interactive table.\"\n",
              "              style=\"display:none;\">\n",
              "        \n",
              "  <svg xmlns=\"http://www.w3.org/2000/svg\" height=\"24px\"viewBox=\"0 0 24 24\"\n",
              "       width=\"24px\">\n",
              "    <path d=\"M0 0h24v24H0V0z\" fill=\"none\"/>\n",
              "    <path d=\"M18.56 5.44l.94 2.06.94-2.06 2.06-.94-2.06-.94-.94-2.06-.94 2.06-2.06.94zm-11 1L8.5 8.5l.94-2.06 2.06-.94-2.06-.94L8.5 2.5l-.94 2.06-2.06.94zm10 10l.94 2.06.94-2.06 2.06-.94-2.06-.94-.94-2.06-.94 2.06-2.06.94z\"/><path d=\"M17.41 7.96l-1.37-1.37c-.4-.4-.92-.59-1.43-.59-.52 0-1.04.2-1.43.59L10.3 9.45l-7.72 7.72c-.78.78-.78 2.05 0 2.83L4 21.41c.39.39.9.59 1.41.59.51 0 1.02-.2 1.41-.59l7.78-7.78 2.81-2.81c.8-.78.8-2.07 0-2.86zM5.41 20L4 18.59l7.72-7.72 1.47 1.35L5.41 20z\"/>\n",
              "  </svg>\n",
              "      </button>\n",
              "      \n",
              "  <style>\n",
              "    .colab-df-container {\n",
              "      display:flex;\n",
              "      flex-wrap:wrap;\n",
              "      gap: 12px;\n",
              "    }\n",
              "\n",
              "    .colab-df-convert {\n",
              "      background-color: #E8F0FE;\n",
              "      border: none;\n",
              "      border-radius: 50%;\n",
              "      cursor: pointer;\n",
              "      display: none;\n",
              "      fill: #1967D2;\n",
              "      height: 32px;\n",
              "      padding: 0 0 0 0;\n",
              "      width: 32px;\n",
              "    }\n",
              "\n",
              "    .colab-df-convert:hover {\n",
              "      background-color: #E2EBFA;\n",
              "      box-shadow: 0px 1px 2px rgba(60, 64, 67, 0.3), 0px 1px 3px 1px rgba(60, 64, 67, 0.15);\n",
              "      fill: #174EA6;\n",
              "    }\n",
              "\n",
              "    [theme=dark] .colab-df-convert {\n",
              "      background-color: #3B4455;\n",
              "      fill: #D2E3FC;\n",
              "    }\n",
              "\n",
              "    [theme=dark] .colab-df-convert:hover {\n",
              "      background-color: #434B5C;\n",
              "      box-shadow: 0px 1px 3px 1px rgba(0, 0, 0, 0.15);\n",
              "      filter: drop-shadow(0px 1px 2px rgba(0, 0, 0, 0.3));\n",
              "      fill: #FFFFFF;\n",
              "    }\n",
              "  </style>\n",
              "\n",
              "      <script>\n",
              "        const buttonEl =\n",
              "          document.querySelector('#df-62fa9f90-78f3-4a15-8db6-dc8310eb809a button.colab-df-convert');\n",
              "        buttonEl.style.display =\n",
              "          google.colab.kernel.accessAllowed ? 'block' : 'none';\n",
              "\n",
              "        async function convertToInteractive(key) {\n",
              "          const element = document.querySelector('#df-62fa9f90-78f3-4a15-8db6-dc8310eb809a');\n",
              "          const dataTable =\n",
              "            await google.colab.kernel.invokeFunction('convertToInteractive',\n",
              "                                                     [key], {});\n",
              "          if (!dataTable) return;\n",
              "\n",
              "          const docLinkHtml = 'Like what you see? Visit the ' +\n",
              "            '<a target=\"_blank\" href=https://colab.research.google.com/notebooks/data_table.ipynb>data table notebook</a>'\n",
              "            + ' to learn more about interactive tables.';\n",
              "          element.innerHTML = '';\n",
              "          dataTable['output_type'] = 'display_data';\n",
              "          await google.colab.output.renderOutput(dataTable, element);\n",
              "          const docLink = document.createElement('div');\n",
              "          docLink.innerHTML = docLinkHtml;\n",
              "          element.appendChild(docLink);\n",
              "        }\n",
              "      </script>\n",
              "    </div>\n",
              "  </div>\n",
              "  "
            ]
          },
          "metadata": {},
          "execution_count": 28
        }
      ]
    },
    {
      "cell_type": "code",
      "source": [
        "#series a lista\n",
        "totalC=data[\"total\"]  # totalC=list(data[\"total\"])\n",
        "totalC"
      ],
      "metadata": {
        "colab": {
          "base_uri": "https://localhost:8080/"
        },
        "id": "S7YDFq-WiqAa",
        "outputId": "bd6aee5e-5d91-482d-fd0b-2ab96e22a612"
      },
      "execution_count": null,
      "outputs": [
        {
          "output_type": "execute_result",
          "data": {
            "text/plain": [
              "0    14.50\n",
              "1    30.78\n",
              "2    10.00\n",
              "Name: total, dtype: float64"
            ]
          },
          "metadata": {},
          "execution_count": 29
        }
      ]
    },
    {
      "cell_type": "markdown",
      "source": [
        "###Ejercicio Cafeterias de Axell\n",
        "\n",
        "\n",
        "1.   Mostrar en un mapa todas la cafeterias que ha visitado Axell. Utilizar el parametro popup para guardar la cantidad que gasto en cada lugar\n",
        "2.   Mostrar en un nuevo mapa todas la cafeterias en las que axell ha gastado mas de 12\n",
        "3.   Mostrar en un nuevo mapa todas la cafeterias de sweet y marcar en rojo en la cafeteria que mas gasto.\n",
        "4.   Mostrar en pantalla la suma total del dinero gastado por Axell en cada empresa\n",
        "\n"
      ],
      "metadata": {
        "id": "ruIlxcy65xrO"
      }
    },
    {
      "cell_type": "code",
      "source": [
        "mGye=fl.Map(location=[-2.1893941,-79.8890591],width='60%',height='60%',zoom_start=12)\n",
        "mGye"
      ],
      "metadata": {
        "id": "wiRrNBgPssP1"
      },
      "execution_count": null,
      "outputs": []
    },
    {
      "cell_type": "code",
      "source": [
        "latc=data[\"latitud\"]  # totalC=list(data[\"total\"])\n",
        "latc"
      ],
      "metadata": {
        "id": "pNQ1AisWv7t6"
      },
      "execution_count": null,
      "outputs": []
    },
    {
      "cell_type": "code",
      "source": [
        "#ejercicio 1 Mostrar en un mapa todas la cafeterias que ha visitado Axell. Utilizar el parametro popup para guardar la cantidad que gasto en cada lugar\n",
        "for f, row in data.iterrows():\n",
        "  # se recorre f como numero de fila y row la fila completa\n",
        "    long=row['longitud']\n",
        "    lat=row['latitud']\n",
        "    cant=row['total']\n",
        "    fl.Marker(location=[long,lat],popup=str(cant)).add_to(mGye)\n",
        "mGye    \n",
        "    "
      ],
      "metadata": {
        "id": "-srVzFYv7LAQ"
      },
      "execution_count": null,
      "outputs": []
    },
    {
      "cell_type": "code",
      "source": [
        "#ejercicio 2 Mostrar en un nuevo mapa todas la cafeterias en las que axell ha gastado mas de 12\n",
        "mGye2=fl.Map(location=[-2.1893941,-79.8890591],width='60%',height='60%',zoom_start=12) #creo un nuevo mapa\n",
        "dfgool=data['total'] > 10   #armo un condicional para que el bucle no sea tan largo\n",
        "datadoce=data[dfgool]\n",
        "for f, row in datadoce.iterrows(): #bucle con el nuevo mapa\n",
        "    long=row['longitud']\n",
        "    lat=row['latitud']\n",
        "    cant=row['total']\n",
        "    fl.Marker(location=[long,lat],popup=str(cant)).add_to(mGye2)\n",
        "mGye2  "
      ],
      "metadata": {
        "id": "xR96eYSgx5MJ"
      },
      "execution_count": null,
      "outputs": []
    },
    {
      "cell_type": "code",
      "source": [
        "#ejercicio N3 Mostrar en un nuevo mapa todas la cafeterias de sweet y marcar en rojo en la cafeteria que mas gasto.\n",
        "mGye3=fl.Map(location=[-2.1893941,-79.8890591],width='60%',height='60%',zoom_start=12) #creo un nuevo mapa\n",
        "dfgool=data['empresa']=='sweet'   #armo un condicional para que el bucle no sea tan largo\n",
        "dataemp=data[dfgool]\n",
        "maxi=max(dataemp['total'])\n",
        "for f, row in dataemp.iterrows(): #bucle con el nuevo mapa\n",
        "    long=row['longitud']\n",
        "    lat=row['latitud']\n",
        "    cant=row['total']\n",
        "    if cant == maxi: #para la cafeteria que gasto mas\n",
        "      fl.Marker(location=[long,lat],popup=str(cant),icon=fl.Icon(color='red')).add_to(mGye3)\n",
        "    else: #para el resto de las cafeterias\n",
        "      fl.Marker(location=[long,lat],popup=str(cant)).add_to(mGye3) \n",
        "#maxi\n",
        "mGye3 \n",
        "#dataemp"
      ],
      "metadata": {
        "id": "CZESve4E9mhK"
      },
      "execution_count": null,
      "outputs": []
    },
    {
      "cell_type": "code",
      "source": [
        "#ejercicio 4 Mostrar en pantalla la suma total del dinero gastado por Axell en cada empresa\n",
        "resultado=data.groupby('empresa').sum()\n",
        "listatotal=list(resultado['total'])\n",
        "listatotal"
      ],
      "metadata": {
        "colab": {
          "base_uri": "https://localhost:8080/"
        },
        "id": "Di-qJ88KUiqT",
        "outputId": "6c7645f7-89d4-4c87-e02f-72f3a054caba"
      },
      "execution_count": null,
      "outputs": [
        {
          "output_type": "execute_result",
          "data": {
            "text/plain": [
              "[30.78, 24.5]"
            ]
          },
          "metadata": {},
          "execution_count": 71
        }
      ]
    }
  ]
}